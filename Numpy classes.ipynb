{
 "cells": [
  {
   "cell_type": "markdown",
   "id": "df7101df",
   "metadata": {
    "heading_collapsed": true
   },
   "source": [
    "### Scaler classes"
   ]
  },
  {
   "cell_type": "markdown",
   "id": "5f070faa",
   "metadata": {},
   "source": [
    "# Class 1"
   ]
  },
  {
   "cell_type": "markdown",
   "id": "75d04877",
   "metadata": {
    "heading_collapsed": true
   },
   "source": [
    "## Intro"
   ]
  },
  {
   "cell_type": "code",
   "execution_count": 1,
   "id": "956421a9",
   "metadata": {
    "hidden": true
   },
   "outputs": [
    {
     "name": "stdout",
     "output_type": "stream",
     "text": [
      "Requirement already satisfied: numpy in ./anaconda3/lib/python3.11/site-packages (1.24.3)\r\n"
     ]
    }
   ],
   "source": [
    "!pip install numpy"
   ]
  },
  {
   "cell_type": "markdown",
   "id": "1226f1c3",
   "metadata": {
    "hidden": true
   },
   "source": [
    "Above command downloaded the file on the local system now we can use import term to import numpy"
   ]
  },
  {
   "cell_type": "code",
   "execution_count": 3,
   "id": "a03ac653",
   "metadata": {
    "hidden": true
   },
   "outputs": [],
   "source": [
    "import numpy as np"
   ]
  },
  {
   "cell_type": "markdown",
   "id": "5bab465a",
   "metadata": {
    "hidden": true
   },
   "source": [
    "-------Let us see the magic of numpy. we will use a python list a = [1,2,3,4,5]"
   ]
  },
  {
   "cell_type": "code",
   "execution_count": 5,
   "id": "c3181db0",
   "metadata": {
    "hidden": true
   },
   "outputs": [
    {
     "data": {
      "text/plain": [
       "[1, 2, 3, 4, 5]"
      ]
     },
     "execution_count": 5,
     "metadata": {},
     "output_type": "execute_result"
    }
   ],
   "source": [
    "a = [1,2,3,4,5]\n",
    "a"
   ]
  },
  {
   "cell_type": "markdown",
   "id": "f0900725",
   "metadata": {
    "hidden": true
   },
   "source": [
    "a here is a list"
   ]
  },
  {
   "cell_type": "code",
   "execution_count": 6,
   "id": "733baabb",
   "metadata": {
    "hidden": true
   },
   "outputs": [
    {
     "data": {
      "text/plain": [
       "[1, 4, 9, 16, 25]"
      ]
     },
     "execution_count": 6,
     "metadata": {},
     "output_type": "execute_result"
    }
   ],
   "source": [
    "b= [i**2 for i in a]\n",
    "b"
   ]
  },
  {
   "cell_type": "code",
   "execution_count": 7,
   "id": "e224d88f",
   "metadata": {
    "hidden": true
   },
   "outputs": [
    {
     "data": {
      "text/plain": [
       "[1, 4, 9, 16, 25]"
      ]
     },
     "execution_count": 7,
     "metadata": {},
     "output_type": "execute_result"
    }
   ],
   "source": [
    "c = []\n",
    "for i in a:\n",
    "    c.append(i ** 2)\n",
    "c"
   ]
  },
  {
   "cell_type": "code",
   "execution_count": 8,
   "id": "614bc5c8",
   "metadata": {
    "hidden": true
   },
   "outputs": [
    {
     "data": {
      "text/plain": [
       "array([1, 2, 3, 4, 5])"
      ]
     },
     "execution_count": 8,
     "metadata": {},
     "output_type": "execute_result"
    }
   ],
   "source": [
    "d = np.array([1,2,3,4,5])\n",
    "d"
   ]
  },
  {
   "cell_type": "markdown",
   "id": "b4dc4e1a",
   "metadata": {
    "hidden": true
   },
   "source": [
    "whenever we see array written, it is a numpy array."
   ]
  },
  {
   "cell_type": "code",
   "execution_count": 9,
   "id": "792ad379",
   "metadata": {
    "hidden": true
   },
   "outputs": [
    {
     "data": {
      "text/plain": [
       "array([ 1,  4,  9, 16, 25])"
      ]
     },
     "execution_count": 9,
     "metadata": {},
     "output_type": "execute_result"
    }
   ],
   "source": [
    "d**2"
   ]
  },
  {
   "cell_type": "code",
   "execution_count": 10,
   "id": "bdde5b6e",
   "metadata": {
    "hidden": true
   },
   "outputs": [
    {
     "data": {
      "text/plain": [
       "array([3, 4, 5, 6, 7])"
      ]
     },
     "execution_count": 10,
     "metadata": {},
     "output_type": "execute_result"
    }
   ],
   "source": [
    "d + 2"
   ]
  },
  {
   "cell_type": "code",
   "execution_count": 11,
   "id": "7a1c0f30",
   "metadata": {
    "hidden": true
   },
   "outputs": [
    {
     "data": {
      "text/plain": [
       "array([10, 20, 30, 40, 50])"
      ]
     },
     "execution_count": 11,
     "metadata": {},
     "output_type": "execute_result"
    }
   ],
   "source": [
    "d*10"
   ]
  },
  {
   "cell_type": "code",
   "execution_count": 12,
   "id": "ef0ee88c",
   "metadata": {
    "hidden": true
   },
   "outputs": [
    {
     "data": {
      "text/plain": [
       "array([-1,  0,  1,  2,  3])"
      ]
     },
     "execution_count": 12,
     "metadata": {},
     "output_type": "execute_result"
    }
   ],
   "source": [
    "d-2"
   ]
  },
  {
   "cell_type": "code",
   "execution_count": 19,
   "id": "8807818f",
   "metadata": {
    "hidden": true
   },
   "outputs": [
    {
     "data": {
      "text/plain": [
       "range(0, 10000)"
      ]
     },
     "execution_count": 19,
     "metadata": {},
     "output_type": "execute_result"
    }
   ],
   "source": [
    "r = range(10000)\n",
    "r"
   ]
  },
  {
   "cell_type": "code",
   "execution_count": 49,
   "id": "a003bc1d",
   "metadata": {
    "hidden": true
   },
   "outputs": [
    {
     "ename": "AttributeError",
     "evalue": "'list' object has no attribute 'head'",
     "output_type": "error",
     "traceback": [
      "\u001b[0;31m---------------------------------------------------------------------------\u001b[0m",
      "\u001b[0;31mAttributeError\u001b[0m                            Traceback (most recent call last)",
      "Cell \u001b[0;32mIn[49], line 2\u001b[0m\n\u001b[1;32m      1\u001b[0m a\u001b[38;5;241m=\u001b[39m [i\u001b[38;5;241m*\u001b[39m\u001b[38;5;241m*\u001b[39m\u001b[38;5;241m2\u001b[39m \u001b[38;5;28;01mfor\u001b[39;00m i \u001b[38;5;129;01min\u001b[39;00m r]\n\u001b[0;32m----> 2\u001b[0m a\u001b[38;5;241m.\u001b[39mhead(\u001b[38;5;241m5\u001b[39m)\n",
      "\u001b[0;31mAttributeError\u001b[0m: 'list' object has no attribute 'head'"
     ]
    }
   ],
   "source": [
    "[i**2 for i in r]\n"
   ]
  },
  {
   "cell_type": "code",
   "execution_count": 21,
   "id": "298fc4c7",
   "metadata": {
    "hidden": true
   },
   "outputs": [
    {
     "data": {
      "text/plain": [
       "array([   0,    1,    2, ..., 9997, 9998, 9999])"
      ]
     },
     "execution_count": 21,
     "metadata": {},
     "output_type": "execute_result"
    }
   ],
   "source": [
    "t = np.array(r)\n",
    "t"
   ]
  },
  {
   "cell_type": "code",
   "execution_count": 22,
   "id": "39fd5b2c",
   "metadata": {
    "hidden": true
   },
   "outputs": [
    {
     "data": {
      "text/plain": [
       "array([       0,        1,        4, ..., 99940009, 99960004, 99980001])"
      ]
     },
     "execution_count": 22,
     "metadata": {},
     "output_type": "execute_result"
    }
   ],
   "source": [
    "t**2"
   ]
  },
  {
   "cell_type": "markdown",
   "id": "3ac0013d",
   "metadata": {
    "hidden": true
   },
   "source": [
    "magic functions: are function provided by jupyter notebook. we can read about in documentation by the name built in magic commands"
   ]
  },
  {
   "cell_type": "code",
   "execution_count": 25,
   "id": "809cd12b",
   "metadata": {
    "hidden": true
   },
   "outputs": [
    {
     "name": "stdout",
     "output_type": "stream",
     "text": [
      "534 µs ± 3.28 µs per loop (mean ± std. dev. of 7 runs, 1,000 loops each)\n"
     ]
    }
   ],
   "source": [
    "#to find time take by any code\n",
    "%timeit [i**2 for i in r]"
   ]
  },
  {
   "cell_type": "code",
   "execution_count": 26,
   "id": "fe45cee3",
   "metadata": {
    "hidden": true
   },
   "outputs": [
    {
     "name": "stdout",
     "output_type": "stream",
     "text": [
      "3.47 µs ± 20.5 ns per loop (mean ± std. dev. of 7 runs, 100,000 loops each)\n"
     ]
    }
   ],
   "source": [
    "%timeit t**2"
   ]
  },
  {
   "cell_type": "markdown",
   "id": "47ceb257",
   "metadata": {
    "hidden": true
   },
   "source": [
    "time taken by numpy array is 1000 times faster than anormal python for loop."
   ]
  },
  {
   "cell_type": "markdown",
   "id": "74a64eec",
   "metadata": {
    "hidden": true
   },
   "source": [
    "**Functions of numpy:**  \n",
    "1.Homogeneous  \n",
    "2.Fast  \n",
    "3.simple syntax  \n",
    "4.Functions- while using numpy we can use functions created by anyone else. but we don't have this advantage with python.  "
   ]
  },
  {
   "cell_type": "markdown",
   "id": "a1cab97f",
   "metadata": {},
   "source": [
    "## From a list- array(), shape, ndim"
   ]
  },
  {
   "cell_type": "markdown",
   "id": "9f825155",
   "metadata": {
    "heading_collapsed": true
   },
   "source": [
    "### 1. Shape"
   ]
  },
  {
   "cell_type": "code",
   "execution_count": 27,
   "id": "c3691098",
   "metadata": {
    "hidden": true
   },
   "outputs": [
    {
     "data": {
      "text/plain": [
       "array([1, 2, 3, 4, 5, 6])"
      ]
     },
     "execution_count": 27,
     "metadata": {},
     "output_type": "execute_result"
    }
   ],
   "source": [
    "a=np.array([1,2,3,4,5,6])\n",
    "a"
   ]
  },
  {
   "cell_type": "code",
   "execution_count": 28,
   "id": "6ef0545f",
   "metadata": {
    "hidden": true
   },
   "outputs": [
    {
     "data": {
      "text/plain": [
       "(6,)"
      ]
     },
     "execution_count": 28,
     "metadata": {},
     "output_type": "execute_result"
    }
   ],
   "source": [
    "a.shape"
   ]
  },
  {
   "cell_type": "markdown",
   "id": "4f0e28c8",
   "metadata": {
    "hidden": true
   },
   "source": [
    "**It shows a tupple with 6 elements.  \n",
    "(6,) and (6) are different. first one is a tupple and second one is an integer value.**"
   ]
  },
  {
   "cell_type": "code",
   "execution_count": 29,
   "id": "78a04d9e",
   "metadata": {
    "hidden": true
   },
   "outputs": [
    {
     "data": {
      "text/plain": [
       "6"
      ]
     },
     "execution_count": 29,
     "metadata": {},
     "output_type": "execute_result"
    }
   ],
   "source": [
    "a.shape[0]"
   ]
  },
  {
   "cell_type": "code",
   "execution_count": 30,
   "id": "126606bb",
   "metadata": {
    "hidden": true
   },
   "outputs": [
    {
     "data": {
      "text/plain": [
       "6"
      ]
     },
     "execution_count": 30,
     "metadata": {},
     "output_type": "execute_result"
    }
   ],
   "source": [
    "len(a)"
   ]
  },
  {
   "cell_type": "code",
   "execution_count": 31,
   "id": "1d781da4",
   "metadata": {
    "hidden": true
   },
   "outputs": [
    {
     "data": {
      "text/plain": [
       "6"
      ]
     },
     "execution_count": 31,
     "metadata": {},
     "output_type": "execute_result"
    }
   ],
   "source": [
    "a.size"
   ]
  },
  {
   "cell_type": "markdown",
   "id": "82f69d75",
   "metadata": {
    "hidden": true
   },
   "source": [
    "**answers to these two are same in a 1 d array but they will differ in a 2D array.**"
   ]
  },
  {
   "cell_type": "markdown",
   "id": "3fbbc464",
   "metadata": {
    "heading_collapsed": true
   },
   "source": [
    "### 2. ndim"
   ]
  },
  {
   "cell_type": "markdown",
   "id": "470d9cfe",
   "metadata": {
    "hidden": true
   },
   "source": [
    "It gives us the number of dimensions.  \n",
    "also, number of brackets= number of dimensions."
   ]
  },
  {
   "cell_type": "markdown",
   "id": "2fc41d8b",
   "metadata": {
    "heading_collapsed": true
   },
   "source": [
    "## From a range and a stepsize - arange()"
   ]
  },
  {
   "cell_type": "code",
   "execution_count": 33,
   "id": "7cfa8397",
   "metadata": {
    "hidden": true
   },
   "outputs": [
    {
     "name": "stdout",
     "output_type": "stream",
     "text": [
      "1\n",
      "3\n",
      "5\n",
      "7\n",
      "9\n"
     ]
    }
   ],
   "source": [
    "for i in range(1,10,2):\n",
    "    print(i)"
   ]
  },
  {
   "cell_type": "code",
   "execution_count": 34,
   "id": "ad143d4a",
   "metadata": {
    "hidden": true
   },
   "outputs": [
    {
     "ename": "TypeError",
     "evalue": "'float' object cannot be interpreted as an integer",
     "output_type": "error",
     "traceback": [
      "\u001b[0;31m---------------------------------------------------------------------------\u001b[0m",
      "\u001b[0;31mTypeError\u001b[0m                                 Traceback (most recent call last)",
      "Cell \u001b[0;32mIn[34], line 1\u001b[0m\n\u001b[0;32m----> 1\u001b[0m \u001b[38;5;28;01mfor\u001b[39;00m i \u001b[38;5;129;01min\u001b[39;00m \u001b[38;5;28mrange\u001b[39m(\u001b[38;5;241m1\u001b[39m,\u001b[38;5;241m10\u001b[39m,\u001b[38;5;241m0.5\u001b[39m):\n\u001b[1;32m      2\u001b[0m     \u001b[38;5;28mprint\u001b[39m(i)\n",
      "\u001b[0;31mTypeError\u001b[0m: 'float' object cannot be interpreted as an integer"
     ]
    }
   ],
   "source": [
    "for i in range(1,10,0.5):\n",
    "    print(i)"
   ]
  },
  {
   "cell_type": "markdown",
   "id": "30337f9a",
   "metadata": {
    "hidden": true
   },
   "source": [
    "It will give an error- they don't accept float steps.  \n",
    "**Now arange comes into the picture, it accepts float steps. It avoids writing 0 after decimel to save space.  \n",
    "example: it won't write 1.0, instead it will write 1.**"
   ]
  },
  {
   "cell_type": "code",
   "execution_count": 35,
   "id": "9acccc42",
   "metadata": {
    "hidden": true
   },
   "outputs": [
    {
     "data": {
      "text/plain": [
       "array([1. , 1.5, 2. , 2.5, 3. , 3.5, 4. , 4.5, 5. , 5.5, 6. , 6.5, 7. ,\n",
       "       7.5, 8. , 8.5, 9. , 9.5])"
      ]
     },
     "execution_count": 35,
     "metadata": {},
     "output_type": "execute_result"
    }
   ],
   "source": [
    "np.arange(1,10,0.5)"
   ]
  },
  {
   "cell_type": "markdown",
   "id": "f4164818",
   "metadata": {
    "heading_collapsed": true
   },
   "source": [
    "## type( ) ndarray "
   ]
  },
  {
   "cell_type": "code",
   "execution_count": 36,
   "id": "e70c549a",
   "metadata": {
    "hidden": true
   },
   "outputs": [
    {
     "data": {
      "text/plain": [
       "array([1, 2, 3, 4, 5])"
      ]
     },
     "execution_count": 36,
     "metadata": {},
     "output_type": "execute_result"
    }
   ],
   "source": [
    "a = np.array([1,2,3,4,5])\n",
    "a"
   ]
  },
  {
   "cell_type": "code",
   "execution_count": 37,
   "id": "3f505cb2",
   "metadata": {
    "hidden": true
   },
   "outputs": [
    {
     "data": {
      "text/plain": [
       "numpy.ndarray"
      ]
     },
     "execution_count": 37,
     "metadata": {},
     "output_type": "execute_result"
    }
   ],
   "source": [
    "type(a)"
   ]
  },
  {
   "cell_type": "markdown",
   "id": "4bf7669d",
   "metadata": {
    "hidden": true
   },
   "source": [
    "**We will get ndarray. Ndarray means n-dimensional array. To know the type of data type it is storing, we will use _\"DTYPE\"_ key word**"
   ]
  },
  {
   "cell_type": "code",
   "execution_count": 38,
   "id": "fd050e0e",
   "metadata": {
    "hidden": true
   },
   "outputs": [
    {
     "data": {
      "text/plain": [
       "dtype('int64')"
      ]
     },
     "execution_count": 38,
     "metadata": {},
     "output_type": "execute_result"
    }
   ],
   "source": [
    "a.dtype"
   ]
  },
  {
   "cell_type": "code",
   "execution_count": 42,
   "id": "5f522209",
   "metadata": {
    "hidden": true
   },
   "outputs": [
    {
     "name": "stdout",
     "output_type": "stream",
     "text": [
      "[1. 2. 3. 4. 5.]\n",
      "<class 'numpy.ndarray'>\n",
      "float64\n"
     ]
    }
   ],
   "source": [
    "a = np.array([1.0,2.0,3.0,4.0,5.0])\n",
    "print(a)\n",
    "print(type(a))\n",
    "print(a.dtype)"
   ]
  },
  {
   "cell_type": "code",
   "execution_count": 43,
   "id": "43370eb1",
   "metadata": {
    "hidden": true
   },
   "outputs": [
    {
     "name": "stdout",
     "output_type": "stream",
     "text": [
      "[ True False]\n",
      "<class 'numpy.ndarray'>\n",
      "bool\n"
     ]
    }
   ],
   "source": [
    "a = np.array([True, False])\n",
    "print(a)\n",
    "print(type(a))\n",
    "print(a.dtype)"
   ]
  },
  {
   "cell_type": "code",
   "execution_count": 44,
   "id": "de539ae1",
   "metadata": {
    "hidden": true
   },
   "outputs": [
    {
     "name": "stdout",
     "output_type": "stream",
     "text": [
      "[1 0 2]\n",
      "<class 'numpy.ndarray'>\n",
      "int64\n"
     ]
    }
   ],
   "source": [
    "a = np.array([True, False, 2])\n",
    "print(a)\n",
    "print(type(a))\n",
    "print(a.dtype)"
   ]
  },
  {
   "cell_type": "markdown",
   "id": "6cef1a01",
   "metadata": {
    "hidden": true
   },
   "source": [
    "**This will not throw an error, it will infact convert boolean into integer. Upcast boolean as integer**"
   ]
  },
  {
   "cell_type": "code",
   "execution_count": 45,
   "id": "a2b23e66",
   "metadata": {
    "hidden": true
   },
   "outputs": [
    {
     "name": "stdout",
     "output_type": "stream",
     "text": [
      "[1. 0. 2. 3.]\n",
      "<class 'numpy.ndarray'>\n",
      "float64\n"
     ]
    }
   ],
   "source": [
    "a = np.array([True, False, 2,3.0])\n",
    "print(a)\n",
    "print(type(a))\n",
    "print(a.dtype)"
   ]
  },
  {
   "cell_type": "markdown",
   "id": "320a7960",
   "metadata": {
    "hidden": true
   },
   "source": [
    "**This will convert boolean and integer into float type.**"
   ]
  },
  {
   "cell_type": "code",
   "execution_count": 46,
   "id": "79ab1d6a",
   "metadata": {
    "hidden": true
   },
   "outputs": [
    {
     "name": "stdout",
     "output_type": "stream",
     "text": [
      "['True' 'False' '2' '3.0' 'scaler']\n",
      "<class 'numpy.ndarray'>\n",
      "<U32\n"
     ]
    }
   ],
   "source": [
    "a = np.array([True, False, 2,3.0, \"scaler\"])\n",
    "print(a)\n",
    "print(type(a))\n",
    "print(a.dtype)"
   ]
  },
  {
   "cell_type": "markdown",
   "id": "510fbb36",
   "metadata": {
    "hidden": true
   },
   "source": [
    "**This will upcast boolean, integer and float type into strings.Everthing converst to string.  \n",
    "U32 is Little Endian, U is Unicode and 32 is the limit for character.**"
   ]
  },
  {
   "cell_type": "code",
   "execution_count": 6,
   "id": "02ecf07d",
   "metadata": {
    "hidden": true
   },
   "outputs": [
    {
     "name": "stdout",
     "output_type": "stream",
     "text": [
      "['Sc' 'Ac' 'Le']\n",
      "<class 'numpy.ndarray'>\n",
      "<U2\n"
     ]
    }
   ],
   "source": [
    "a = np.array(['Scaler', 'Academy', 'Learner'], dtype='U2')\n",
    "print(a)\n",
    "print(type(a))\n",
    "print(a.dtype)"
   ]
  },
  {
   "cell_type": "markdown",
   "id": "48f2f169",
   "metadata": {
    "hidden": true
   },
   "source": [
    "**So here we only see 2 characters only, as we declared U2.**"
   ]
  },
  {
   "cell_type": "markdown",
   "id": "ee3d3e6e",
   "metadata": {},
   "source": [
    "# Class 2"
   ]
  },
  {
   "cell_type": "markdown",
   "id": "49e6fe6a",
   "metadata": {
    "heading_collapsed": true
   },
   "source": [
    "## Indexing, slicing, Masking on 1D"
   ]
  },
  {
   "cell_type": "markdown",
   "id": "8bba5e68",
   "metadata": {
    "heading_collapsed": true,
    "hidden": true
   },
   "source": [
    "### Indexing"
   ]
  },
  {
   "cell_type": "code",
   "execution_count": 14,
   "id": "d25fdfdc",
   "metadata": {
    "hidden": true
   },
   "outputs": [
    {
     "name": "stdout",
     "output_type": "stream",
     "text": [
      "[1 2 3 4 5 6 7 8]\n",
      "4\n",
      "4\n"
     ]
    }
   ],
   "source": [
    "a=np.arange(1,9)\n",
    "print(a)\n",
    "print(a[3])\n",
    "print(a[-5])"
   ]
  },
  {
   "cell_type": "markdown",
   "id": "5dc3df94",
   "metadata": {
    "hidden": true
   },
   "source": [
    "**Indexing a single element is very easy, we can directly write the index numbers. But to get multiple elements where there is no corelation and we cannot do slicing. We can simply create a list of indexes we want, and pass the list inside the 'a'.**"
   ]
  },
  {
   "cell_type": "code",
   "execution_count": 15,
   "id": "d2d6bac6",
   "metadata": {
    "hidden": true
   },
   "outputs": [
    {
     "data": {
      "text/plain": [
       "[2, 4, 5]"
      ]
     },
     "execution_count": 15,
     "metadata": {},
     "output_type": "execute_result"
    }
   ],
   "source": [
    "[2,4,5]"
   ]
  },
  {
   "cell_type": "code",
   "execution_count": 16,
   "id": "d75aadd5",
   "metadata": {
    "hidden": true
   },
   "outputs": [
    {
     "data": {
      "text/plain": [
       "array([3, 5, 6])"
      ]
     },
     "execution_count": 16,
     "metadata": {},
     "output_type": "execute_result"
    }
   ],
   "source": [
    "a[[2,4,5]]"
   ]
  },
  {
   "cell_type": "markdown",
   "id": "5291cd97",
   "metadata": {
    "hidden": true
   },
   "source": [
    "**Let's change the order**"
   ]
  },
  {
   "cell_type": "code",
   "execution_count": 18,
   "id": "d8ae5354",
   "metadata": {
    "hidden": true
   },
   "outputs": [
    {
     "data": {
      "text/plain": [
       "array([6, 5, 3])"
      ]
     },
     "execution_count": 18,
     "metadata": {},
     "output_type": "execute_result"
    }
   ],
   "source": [
    "a[[5,4,2]]"
   ]
  },
  {
   "cell_type": "code",
   "execution_count": 24,
   "id": "bad0af53",
   "metadata": {
    "hidden": true
   },
   "outputs": [
    {
     "name": "stdout",
     "output_type": "stream",
     "text": [
      "[3 5 6]\n",
      "[3 5 6]\n"
     ]
    }
   ],
   "source": [
    "print(a[[-6,-4,-3]])\n",
    "print(a[[-6,4,-3]])"
   ]
  },
  {
   "cell_type": "markdown",
   "id": "4d07790d",
   "metadata": {
    "hidden": true
   },
   "source": [
    "**This means we can pass mix and match of positive and negative indices.**"
   ]
  },
  {
   "cell_type": "markdown",
   "id": "cefd493d",
   "metadata": {
    "heading_collapsed": true,
    "hidden": true
   },
   "source": [
    "### Slicing"
   ]
  },
  {
   "cell_type": "code",
   "execution_count": 38,
   "id": "052f5d04",
   "metadata": {
    "hidden": true
   },
   "outputs": [
    {
     "data": {
      "text/plain": [
       "array([11, 12, 13, 14, 15, 16, 17, 18])"
      ]
     },
     "execution_count": 38,
     "metadata": {},
     "output_type": "execute_result"
    }
   ],
   "source": [
    "a=np.arange(11,19)\n",
    "a"
   ]
  },
  {
   "cell_type": "code",
   "execution_count": 30,
   "id": "f0028852",
   "metadata": {
    "hidden": true
   },
   "outputs": [
    {
     "name": "stdout",
     "output_type": "stream",
     "text": [
      "[13 14 15 16 17]\n",
      "[13 14 15 16 17 18]\n",
      "[13 14 15 16 17]\n"
     ]
    }
   ],
   "source": [
    "print(a[2:7:1])\n",
    "print(a[2::1])\n",
    "print(a[-6:-1:1])"
   ]
  },
  {
   "cell_type": "code",
   "execution_count": 31,
   "id": "21753a5d",
   "metadata": {
    "hidden": true
   },
   "outputs": [
    {
     "data": {
      "text/plain": [
       "array([], dtype=int64)"
      ]
     },
     "execution_count": 31,
     "metadata": {},
     "output_type": "execute_result"
    }
   ],
   "source": [
    "a[4:2:1]"
   ]
  },
  {
   "cell_type": "markdown",
   "id": "ed63b972",
   "metadata": {
    "hidden": true
   },
   "source": [
    "**In numpy we don't get any errors we will just get an empty array.  \n",
    "Implying that there is no element looking forward.**  \n",
    "\n",
    "**It shows datatype because it is an empty array, and every time we create an array it stores some data type. So this output wants to say that we _\"we have an empty array which stores integer values\"_**"
   ]
  },
  {
   "cell_type": "code",
   "execution_count": 32,
   "id": "edd785ec",
   "metadata": {
    "hidden": true
   },
   "outputs": [
    {
     "data": {
      "text/plain": [
       "array([15, 14])"
      ]
     },
     "execution_count": 32,
     "metadata": {},
     "output_type": "execute_result"
    }
   ],
   "source": [
    "a[4:2:-1]"
   ]
  },
  {
   "cell_type": "code",
   "execution_count": 33,
   "id": "15a36c2a",
   "metadata": {
    "hidden": true
   },
   "outputs": [
    {
     "data": {
      "text/plain": [
       "array([], dtype=int64)"
      ]
     },
     "execution_count": 33,
     "metadata": {},
     "output_type": "execute_result"
    }
   ],
   "source": [
    "a[-4:-2:-1]"
   ]
  },
  {
   "cell_type": "code",
   "execution_count": 35,
   "id": "1fbaca5a",
   "metadata": {
    "hidden": true
   },
   "outputs": [
    {
     "data": {
      "text/plain": [
       "array([12, 14, 16])"
      ]
     },
     "execution_count": 35,
     "metadata": {},
     "output_type": "execute_result"
    }
   ],
   "source": [
    "a[1:-2:2]"
   ]
  },
  {
   "cell_type": "code",
   "execution_count": 36,
   "id": "245a891c",
   "metadata": {
    "hidden": true
   },
   "outputs": [
    {
     "data": {
      "text/plain": [
       "array([17, 14])"
      ]
     },
     "execution_count": 36,
     "metadata": {},
     "output_type": "execute_result"
    }
   ],
   "source": [
    "a[6:-7:-3]"
   ]
  },
  {
   "cell_type": "code",
   "execution_count": 37,
   "id": "e899b850",
   "metadata": {
    "hidden": true
   },
   "outputs": [
    {
     "data": {
      "text/plain": [
       "array([16, 14, 12])"
      ]
     },
     "execution_count": 37,
     "metadata": {},
     "output_type": "execute_result"
    }
   ],
   "source": [
    "a[5::-2]"
   ]
  },
  {
   "cell_type": "code",
   "execution_count": 39,
   "id": "53d6f252",
   "metadata": {
    "hidden": true
   },
   "outputs": [
    {
     "data": {
      "text/plain": [
       "array([18, 15])"
      ]
     },
     "execution_count": 39,
     "metadata": {},
     "output_type": "execute_result"
    }
   ],
   "source": [
    "a[:3:-3]"
   ]
  },
  {
   "cell_type": "markdown",
   "id": "2020387f",
   "metadata": {
    "hidden": true
   },
   "source": [
    "**Solve it manually**"
   ]
  },
  {
   "cell_type": "code",
   "execution_count": 40,
   "id": "a0edc2bb",
   "metadata": {
    "hidden": true
   },
   "outputs": [
    {
     "data": {
      "text/plain": [
       "array([18, 17, 16, 15, 14, 13, 12, 11])"
      ]
     },
     "execution_count": 40,
     "metadata": {},
     "output_type": "execute_result"
    }
   ],
   "source": [
    "a[::-1]"
   ]
  },
  {
   "cell_type": "markdown",
   "id": "93a6f0ad",
   "metadata": {
    "hidden": true
   },
   "source": [
    "**This gives reverse of the list.**"
   ]
  },
  {
   "cell_type": "markdown",
   "id": "93994a90",
   "metadata": {
    "heading_collapsed": true,
    "hidden": true
   },
   "source": [
    "### Masking (Fancy Indexing)"
   ]
  },
  {
   "cell_type": "code",
   "execution_count": 41,
   "id": "e5845fd6",
   "metadata": {
    "hidden": true
   },
   "outputs": [
    {
     "data": {
      "text/plain": [
       "array([11, 12, 13, 14, 15, 16, 17, 18])"
      ]
     },
     "execution_count": 41,
     "metadata": {},
     "output_type": "execute_result"
    }
   ],
   "source": [
    "a"
   ]
  },
  {
   "cell_type": "code",
   "execution_count": 42,
   "id": "2fdd6432",
   "metadata": {
    "hidden": true
   },
   "outputs": [
    {
     "data": {
      "text/plain": [
       "array([21, 22, 23, 24, 25, 26, 27, 28])"
      ]
     },
     "execution_count": 42,
     "metadata": {},
     "output_type": "execute_result"
    }
   ],
   "source": [
    "a+10"
   ]
  },
  {
   "cell_type": "markdown",
   "id": "ad28c9ab",
   "metadata": {
    "hidden": true
   },
   "source": [
    "**A stays same,this is not doing in place changes.**"
   ]
  },
  {
   "cell_type": "code",
   "execution_count": 43,
   "id": "3271c111",
   "metadata": {
    "hidden": true
   },
   "outputs": [
    {
     "data": {
      "text/plain": [
       "array([11, 12, 13, 14, 15, 16, 17, 18])"
      ]
     },
     "execution_count": 43,
     "metadata": {},
     "output_type": "execute_result"
    }
   ],
   "source": [
    "a"
   ]
  },
  {
   "cell_type": "code",
   "execution_count": 44,
   "id": "5e358e19",
   "metadata": {
    "hidden": true
   },
   "outputs": [
    {
     "data": {
      "text/plain": [
       "array([ True,  True,  True,  True, False, False, False, False])"
      ]
     },
     "execution_count": 44,
     "metadata": {},
     "output_type": "execute_result"
    }
   ],
   "source": [
    "a<15"
   ]
  },
  {
   "cell_type": "code",
   "execution_count": 46,
   "id": "5dc684b5",
   "metadata": {
    "hidden": true
   },
   "outputs": [
    {
     "data": {
      "text/plain": [
       "array([11, 12, 13, 14])"
      ]
     },
     "execution_count": 46,
     "metadata": {},
     "output_type": "execute_result"
    }
   ],
   "source": [
    "a[a<15]"
   ]
  },
  {
   "cell_type": "code",
   "execution_count": 47,
   "id": "d610a48d",
   "metadata": {
    "hidden": true
   },
   "outputs": [
    {
     "data": {
      "text/plain": [
       "array([12, 14, 16, 18])"
      ]
     },
     "execution_count": 47,
     "metadata": {},
     "output_type": "execute_result"
    }
   ],
   "source": [
    "a[a%2==0]"
   ]
  },
  {
   "cell_type": "markdown",
   "id": "ae396f15",
   "metadata": {
    "hidden": true
   },
   "source": [
    "**In the next business case we will see how we can use these Masking for _\"String\"_ as well.**"
   ]
  },
  {
   "cell_type": "code",
   "execution_count": 48,
   "id": "0fae2599",
   "metadata": {
    "hidden": true
   },
   "outputs": [
    {
     "data": {
      "text/plain": [
       "array([11, 13, 15, 17])"
      ]
     },
     "execution_count": 48,
     "metadata": {},
     "output_type": "execute_result"
    }
   ],
   "source": [
    "a[~a%2==0]"
   ]
  },
  {
   "cell_type": "markdown",
   "id": "436914ba",
   "metadata": {
    "hidden": true
   },
   "source": [
    "**_Tilda_ is used to get opposite/not values**. \n",
    "\n",
    "\n",
    "**Masking is faster than filter and lambda. Masking is the fastest. Internal working is vectorisation and broadcasting**"
   ]
  },
  {
   "cell_type": "code",
   "execution_count": 50,
   "id": "306003a2",
   "metadata": {
    "hidden": true
   },
   "outputs": [
    {
     "data": {
      "text/plain": [
       "array([False,  True, False,  True, False,  True, False,  True])"
      ]
     },
     "execution_count": 50,
     "metadata": {},
     "output_type": "execute_result"
    }
   ],
   "source": [
    "mask1 = a%2==0\n",
    "mask2 = a%5==0\n",
    "mask1"
   ]
  },
  {
   "cell_type": "code",
   "execution_count": 51,
   "id": "98ff8464",
   "metadata": {
    "hidden": true
   },
   "outputs": [
    {
     "data": {
      "text/plain": [
       "array([False, False, False, False,  True, False, False, False])"
      ]
     },
     "execution_count": 51,
     "metadata": {},
     "output_type": "execute_result"
    }
   ],
   "source": [
    "mask2"
   ]
  },
  {
   "cell_type": "code",
   "execution_count": 52,
   "id": "5386cd88",
   "metadata": {
    "hidden": true
   },
   "outputs": [
    {
     "data": {
      "text/plain": [
       "array([11, 12, 13, 14, 15, 16, 17, 18])"
      ]
     },
     "execution_count": 52,
     "metadata": {},
     "output_type": "execute_result"
    }
   ],
   "source": [
    "a"
   ]
  },
  {
   "cell_type": "markdown",
   "id": "d87a94ef",
   "metadata": {
    "hidden": true
   },
   "source": [
    "**In python we did and and or, but it doesnt work here as they compare the entire object. We are doing a bit wise comparison here.  \n",
    "We are comparinf individual comparison of respective False's and Trues  \n",
    "![bitwise comparison](/Users/aparnabiswas/Downloads/Python libraries-Jupyter)"
   ]
  },
  {
   "cell_type": "code",
   "execution_count": 53,
   "id": "a0afbfb5",
   "metadata": {
    "hidden": true
   },
   "outputs": [
    {
     "data": {
      "text/plain": [
       "array([12, 14, 15, 16, 18])"
      ]
     },
     "execution_count": 53,
     "metadata": {},
     "output_type": "execute_result"
    }
   ],
   "source": [
    "a[mask1 | mask2]"
   ]
  },
  {
   "cell_type": "code",
   "execution_count": 54,
   "id": "708f2937",
   "metadata": {
    "hidden": true
   },
   "outputs": [
    {
     "ename": "ValueError",
     "evalue": "The truth value of an array with more than one element is ambiguous. Use a.any() or a.all()",
     "output_type": "error",
     "traceback": [
      "\u001b[0;31m---------------------------------------------------------------------------\u001b[0m",
      "\u001b[0;31mValueError\u001b[0m                                Traceback (most recent call last)",
      "Cell \u001b[0;32mIn[54], line 1\u001b[0m\n\u001b[0;32m----> 1\u001b[0m a[mask1 \u001b[38;5;129;01mand\u001b[39;00m mask2]\n",
      "\u001b[0;31mValueError\u001b[0m: The truth value of an array with more than one element is ambiguous. Use a.any() or a.all()"
     ]
    }
   ],
   "source": [
    "a[mask1 and mask2]"
   ]
  },
  {
   "cell_type": "code",
   "execution_count": 55,
   "id": "55f62503",
   "metadata": {
    "hidden": true
   },
   "outputs": [
    {
     "data": {
      "text/plain": [
       "array([], dtype=int64)"
      ]
     },
     "execution_count": 55,
     "metadata": {},
     "output_type": "execute_result"
    }
   ],
   "source": [
    "a[mask1 & mask2]"
   ]
  },
  {
   "cell_type": "markdown",
   "id": "78cb9cff",
   "metadata": {
    "hidden": true
   },
   "source": [
    "Everything in python is an object when we do **and** operation entire array of mask1/mask2 of [True, False,....], entire array will be compared to each other in whole. BUt we need to do Bit-wise comparison. Hence **\"&\"** is used."
   ]
  },
  {
   "cell_type": "code",
   "execution_count": 56,
   "id": "11fd742f",
   "metadata": {
    "hidden": true
   },
   "outputs": [
    {
     "ename": "ValueError",
     "evalue": "The truth value of an array with more than one element is ambiguous. Use a.any() or a.all()",
     "output_type": "error",
     "traceback": [
      "\u001b[0;31m---------------------------------------------------------------------------\u001b[0m",
      "\u001b[0;31mValueError\u001b[0m                                Traceback (most recent call last)",
      "Cell \u001b[0;32mIn[56], line 1\u001b[0m\n\u001b[0;32m----> 1\u001b[0m a[a\u001b[38;5;241m%\u001b[39m\u001b[38;5;241m2\u001b[39m\u001b[38;5;241m==\u001b[39m\u001b[38;5;241m0\u001b[39m \u001b[38;5;241m|\u001b[39m a\u001b[38;5;241m%\u001b[39m\u001b[38;5;241m3\u001b[39m\u001b[38;5;241m==\u001b[39m\u001b[38;5;241m0\u001b[39m]\n",
      "\u001b[0;31mValueError\u001b[0m: The truth value of an array with more than one element is ambiguous. Use a.any() or a.all()"
     ]
    }
   ],
   "source": [
    "a[a%2==0 | a%3==0]"
   ]
  },
  {
   "cell_type": "markdown",
   "id": "7d7bd45e",
   "metadata": {
    "hidden": true
   },
   "source": [
    "**Error**:\n",
    "as there is certain order of precendence with all the operators.  \n",
    "Hence, use Brackets."
   ]
  },
  {
   "cell_type": "code",
   "execution_count": 57,
   "id": "a1b21115",
   "metadata": {
    "hidden": true
   },
   "outputs": [
    {
     "data": {
      "text/plain": [
       "array([12, 14, 15, 16, 18])"
      ]
     },
     "execution_count": 57,
     "metadata": {},
     "output_type": "execute_result"
    }
   ],
   "source": [
    "a[(a%2==0) | (a%3==0)]"
   ]
  },
  {
   "cell_type": "markdown",
   "id": "7603543f",
   "metadata": {
    "heading_collapsed": true
   },
   "source": [
    "## Operation on arrays"
   ]
  },
  {
   "cell_type": "markdown",
   "id": "e3d8d5a6",
   "metadata": {
    "hidden": true
   },
   "source": [
    "#### np.any, np.all"
   ]
  },
  {
   "cell_type": "code",
   "execution_count": 59,
   "id": "2b716cd6",
   "metadata": {
    "hidden": true
   },
   "outputs": [],
   "source": [
    "a=np.array([1,2,3,4,5])\n",
    "b=np.array ( [6, 7, 8, 9, 10])\n",
    "c=np.array([6,7,8,9,10,11])"
   ]
  },
  {
   "cell_type": "code",
   "execution_count": 60,
   "id": "9ce99ba6",
   "metadata": {
    "hidden": true
   },
   "outputs": [
    {
     "data": {
      "text/plain": [
       "array([11, 12, 13, 14, 15])"
      ]
     },
     "execution_count": 60,
     "metadata": {},
     "output_type": "execute_result"
    }
   ],
   "source": [
    "a+10"
   ]
  },
  {
   "cell_type": "code",
   "execution_count": 61,
   "id": "f4d18a46",
   "metadata": {
    "hidden": true
   },
   "outputs": [
    {
     "data": {
      "text/plain": [
       "array([ True,  True,  True,  True,  True])"
      ]
     },
     "execution_count": 61,
     "metadata": {},
     "output_type": "execute_result"
    }
   ],
   "source": [
    "a<10"
   ]
  },
  {
   "cell_type": "code",
   "execution_count": 62,
   "id": "769d5bf2",
   "metadata": {
    "hidden": true
   },
   "outputs": [
    {
     "data": {
      "text/plain": [
       "array([ 7,  9, 11, 13, 15])"
      ]
     },
     "execution_count": 62,
     "metadata": {},
     "output_type": "execute_result"
    }
   ],
   "source": [
    "a+b"
   ]
  },
  {
   "cell_type": "code",
   "execution_count": 64,
   "id": "f601b37b",
   "metadata": {
    "hidden": true
   },
   "outputs": [],
   "source": [
    "#a+c #error as the shape is not same"
   ]
  },
  {
   "cell_type": "code",
   "execution_count": 66,
   "id": "3a624cb6",
   "metadata": {
    "hidden": true
   },
   "outputs": [
    {
     "data": {
      "text/plain": [
       "array([ True,  True,  True,  True,  True])"
      ]
     },
     "execution_count": 66,
     "metadata": {},
     "output_type": "execute_result"
    }
   ],
   "source": [
    "a<b\n",
    "#everything in \"a\" & \"b\" will be compared individually."
   ]
  },
  {
   "cell_type": "code",
   "execution_count": 67,
   "id": "ac90a134",
   "metadata": {
    "hidden": true
   },
   "outputs": [
    {
     "data": {
      "text/plain": [
       "array([False, False, False, False, False])"
      ]
     },
     "execution_count": 67,
     "metadata": {},
     "output_type": "execute_result"
    }
   ],
   "source": [
    "a>b"
   ]
  },
  {
   "cell_type": "code",
   "execution_count": 68,
   "id": "395bb20a",
   "metadata": {
    "hidden": true
   },
   "outputs": [
    {
     "data": {
      "text/plain": [
       "array([False, False, False, False, False])"
      ]
     },
     "execution_count": 68,
     "metadata": {},
     "output_type": "execute_result"
    }
   ],
   "source": [
    "a==b"
   ]
  },
  {
   "cell_type": "markdown",
   "id": "37c4f627",
   "metadata": {
    "hidden": true
   },
   "source": [
    "**np.any** - even if one value is true  \n",
    "**np.all** - When all value is true"
   ]
  },
  {
   "cell_type": "code",
   "execution_count": 70,
   "id": "8ea775fe",
   "metadata": {
    "hidden": true
   },
   "outputs": [
    {
     "data": {
      "text/plain": [
       "True"
      ]
     },
     "execution_count": 70,
     "metadata": {},
     "output_type": "execute_result"
    }
   ],
   "source": [
    "np.all(a<b)"
   ]
  },
  {
   "cell_type": "code",
   "execution_count": 71,
   "id": "479495e6",
   "metadata": {
    "hidden": true
   },
   "outputs": [],
   "source": [
    "a=np.array ([1,2,3,4,11])\n",
    "b=np.array ( [6,7,8,9, 10])"
   ]
  },
  {
   "cell_type": "code",
   "execution_count": 72,
   "id": "0d1975a0",
   "metadata": {
    "hidden": true
   },
   "outputs": [
    {
     "data": {
      "text/plain": [
       "False"
      ]
     },
     "execution_count": 72,
     "metadata": {},
     "output_type": "execute_result"
    }
   ],
   "source": [
    "#now\n",
    "np.all(a<b)"
   ]
  },
  {
   "cell_type": "code",
   "execution_count": 73,
   "id": "2b5b7ec3",
   "metadata": {
    "hidden": true
   },
   "outputs": [
    {
     "data": {
      "text/plain": [
       "True"
      ]
     },
     "execution_count": 73,
     "metadata": {},
     "output_type": "execute_result"
    }
   ],
   "source": [
    "np.any(a<b)"
   ]
  },
  {
   "cell_type": "markdown",
   "id": "0c805e26",
   "metadata": {
    "heading_collapsed": true,
    "hidden": true
   },
   "source": [
    "### U Functions-"
   ]
  },
  {
   "cell_type": "markdown",
   "id": "20a944a6",
   "metadata": {
    "hidden": true
   },
   "source": [
    "Universal function- aggregate functions"
   ]
  },
  {
   "cell_type": "markdown",
   "id": "88b6a9ca",
   "metadata": {
    "hidden": true
   },
   "source": [
    "#### np.max"
   ]
  },
  {
   "cell_type": "markdown",
   "id": "be30c23a",
   "metadata": {
    "hidden": true
   },
   "source": [
    "#### np.min"
   ]
  },
  {
   "cell_type": "markdown",
   "id": "2a4b740e",
   "metadata": {
    "hidden": true
   },
   "source": [
    "#### np.mean"
   ]
  },
  {
   "cell_type": "markdown",
   "id": "ba1be7fc",
   "metadata": {
    "hidden": true
   },
   "source": [
    "#### np.median"
   ]
  },
  {
   "cell_type": "markdown",
   "id": "7a042187",
   "metadata": {
    "hidden": true
   },
   "source": [
    "#### np.sum"
   ]
  },
  {
   "cell_type": "markdown",
   "id": "7582f3a8",
   "metadata": {},
   "source": [
    "## NPS Biz case"
   ]
  },
  {
   "cell_type": "markdown",
   "id": "33a895c2",
   "metadata": {},
   "source": [
    "We will use **np.loadtxt** to load the dataset it is in\"txt\" form. But generally we will use pd.read_csv to load the file."
   ]
  },
  {
   "cell_type": "code",
   "execution_count": 76,
   "id": "36534d9f",
   "metadata": {},
   "outputs": [
    {
     "data": {
      "text/plain": [
       "array([ 7., 10.,  5., ...,  5.,  9., 10.])"
      ]
     },
     "execution_count": 76,
     "metadata": {},
     "output_type": "execute_result"
    }
   ],
   "source": [
    "data = np.loadtxt(\"/Users/aparnabiswas/Downloads/Python_libraries-Jupyter/Numpy/NPS_Biz_case_class2/survey.txt\") \n",
    "data\n",
    "#storing this inside data"
   ]
  },
  {
   "cell_type": "markdown",
   "id": "f494d80f",
   "metadata": {},
   "source": [
    "Formula of **NPS**:  \n",
    "%p - %d"
   ]
  },
  {
   "cell_type": "code",
   "execution_count": 77,
   "id": "3f0c4435",
   "metadata": {},
   "outputs": [
    {
     "data": {
      "text/plain": [
       "1167"
      ]
     },
     "execution_count": 77,
     "metadata": {},
     "output_type": "execute_result"
    }
   ],
   "source": [
    "len(data)"
   ]
  },
  {
   "cell_type": "markdown",
   "id": "2b9f98f6",
   "metadata": {},
   "source": [
    "**to find total number of feedbacks. Since this is 1D, we can just use  \n",
    "\"len\" command\n",
    "Shape[0]\n",
    "size**\n"
   ]
  },
  {
   "cell_type": "code",
   "execution_count": 78,
   "id": "89cb19cb",
   "metadata": {},
   "outputs": [
    {
     "data": {
      "text/plain": [
       "1167"
      ]
     },
     "execution_count": 78,
     "metadata": {},
     "output_type": "execute_result"
    }
   ],
   "source": [
    "data.shape[0]"
   ]
  },
  {
   "cell_type": "code",
   "execution_count": 80,
   "id": "9ee94da0",
   "metadata": {},
   "outputs": [
    {
     "data": {
      "text/plain": [
       "1167"
      ]
     },
     "execution_count": 80,
     "metadata": {},
     "output_type": "execute_result"
    }
   ],
   "source": [
    "total=data.size\n",
    "total"
   ]
  },
  {
   "cell_type": "code",
   "execution_count": 81,
   "id": "92783a15",
   "metadata": {},
   "outputs": [
    {
     "data": {
      "text/plain": [
       "array([5., 4., 4., 5., 1., 5., 5., 1., 4., 5., 4., 4., 4., 5., 1., 4., 1.,\n",
       "       4., 1., 5., 5., 1., 1., 4., 1., 5., 4., 1., 1., 4., 1., 5., 1., 4.,\n",
       "       4., 1., 1., 1., 1., 1., 1., 1., 4., 1., 1., 5., 5., 5., 4., 4., 1.,\n",
       "       4., 1., 4., 1., 5., 1., 1., 5., 4., 4., 4., 4., 1., 4., 5., 4., 4.,\n",
       "       1., 1., 5., 5., 1., 5., 1., 5., 5., 4., 5., 4., 1., 1., 1., 1., 4.,\n",
       "       1., 4., 4., 5., 4., 1., 1., 1., 1., 5., 4., 5., 5., 4., 1., 5., 1.,\n",
       "       4., 4., 1., 1., 1., 4., 4., 5., 5., 4., 5., 5., 5., 1., 4., 1., 5.,\n",
       "       5., 1., 5., 1., 1., 5., 5., 4., 4., 1., 4., 4., 4., 1., 1., 4., 4.,\n",
       "       4., 5., 5., 1., 1., 4., 1., 4., 1., 4., 1., 4., 1., 4., 1., 5., 4.,\n",
       "       4., 5., 1., 4., 5., 5., 5., 1., 5., 4., 1., 1., 5., 5., 5., 4., 5.,\n",
       "       4., 4., 1., 4., 4., 4., 4., 5., 1., 5., 5., 1., 4., 4., 5., 1., 1.,\n",
       "       4., 5., 5., 5., 1., 4., 5., 5., 4., 1., 5., 5., 5., 1., 1., 5., 5.,\n",
       "       1., 1., 1., 4., 5., 5., 4., 4., 4., 5., 1., 4., 1., 4., 5., 4., 5.,\n",
       "       5., 1., 5., 1., 5., 5., 1., 4., 5., 5., 4., 1., 5., 1., 4., 1., 4.,\n",
       "       1., 1., 1., 1., 1., 1., 4., 1., 5., 4., 5., 1., 5., 1., 5., 4., 4.,\n",
       "       4., 4., 5., 5., 1., 4., 1., 5., 5., 1., 4., 1., 1., 4., 4., 4., 4.,\n",
       "       1., 4., 1., 1., 4., 1., 5., 4., 1., 1., 5., 4., 5., 4., 4., 4., 1.,\n",
       "       5., 5., 1., 4., 5., 4., 4., 4., 1., 4., 1., 4., 4., 4., 5., 1., 1.,\n",
       "       1., 4., 5., 5., 1., 5., 4., 5., 5., 4., 1., 1., 5., 5., 5., 1., 4.,\n",
       "       5., 4., 5., 5., 5., 1., 4., 1., 5.])"
      ]
     },
     "execution_count": 81,
     "metadata": {},
     "output_type": "execute_result"
    }
   ],
   "source": [
    "#detractors\n",
    "data[data<7]"
   ]
  },
  {
   "cell_type": "code",
   "execution_count": 87,
   "id": "6ac0f521",
   "metadata": {},
   "outputs": [
    {
     "data": {
      "text/plain": [
       "332"
      ]
     },
     "execution_count": 87,
     "metadata": {},
     "output_type": "execute_result"
    }
   ],
   "source": [
    "#to find how many detractors\n",
    "\n",
    "detractors = data[data<7].shape[0]\n",
    "detractors"
   ]
  },
  {
   "cell_type": "code",
   "execution_count": 88,
   "id": "78324bb4",
   "metadata": {},
   "outputs": [
    {
     "data": {
      "text/plain": [
       "609"
      ]
     },
     "execution_count": 88,
     "metadata": {},
     "output_type": "execute_result"
    }
   ],
   "source": [
    "#promoters\n",
    "\n",
    "promoters = data[data>=9].shape[0]\n",
    "promoters"
   ]
  },
  {
   "cell_type": "code",
   "execution_count": 90,
   "id": "376d7b11",
   "metadata": {},
   "outputs": [
    {
     "data": {
      "text/plain": [
       "226"
      ]
     },
     "execution_count": 90,
     "metadata": {},
     "output_type": "execute_result"
    }
   ],
   "source": [
    "#passives\n",
    "\n",
    "passives = data[(data==7)|(data==8)].shape[0]\n",
    "passives"
   ]
  },
  {
   "cell_type": "code",
   "execution_count": 91,
   "id": "fae77b00",
   "metadata": {},
   "outputs": [
    {
     "data": {
      "text/plain": [
       "0.5218508997429306"
      ]
     },
     "execution_count": 91,
     "metadata": {},
     "output_type": "execute_result"
    }
   ],
   "source": [
    "perc_promoters = promoters/total\n",
    "perc_promoters"
   ]
  },
  {
   "cell_type": "code",
   "execution_count": 92,
   "id": "aa92fee4",
   "metadata": {},
   "outputs": [
    {
     "data": {
      "text/plain": [
       "0.28449014567266495"
      ]
     },
     "execution_count": 92,
     "metadata": {},
     "output_type": "execute_result"
    }
   ],
   "source": [
    "perc_detractors = detractors/total\n",
    "perc_detractors"
   ]
  },
  {
   "cell_type": "code",
   "execution_count": 94,
   "id": "e47ceb95",
   "metadata": {},
   "outputs": [
    {
     "data": {
      "text/plain": [
       "23.73607540702657"
      ]
     },
     "execution_count": 94,
     "metadata": {},
     "output_type": "execute_result"
    }
   ],
   "source": [
    "NPS = (perc_promoters-perc_detractors)*100\n",
    "NPS"
   ]
  },
  {
   "cell_type": "markdown",
   "id": "7f6dfce1",
   "metadata": {
    "heading_collapsed": true
   },
   "source": [
    "## 2D Numpy array"
   ]
  },
  {
   "cell_type": "code",
   "execution_count": 95,
   "id": "1697c5d8",
   "metadata": {
    "hidden": true
   },
   "outputs": [
    {
     "data": {
      "text/plain": [
       "array([[1, 2, 3],\n",
       "       [4, 5, 6]])"
      ]
     },
     "execution_count": 95,
     "metadata": {},
     "output_type": "execute_result"
    }
   ],
   "source": [
    "a=np.array([[1,2,3],[4,5,6]])\n",
    "a"
   ]
  },
  {
   "cell_type": "code",
   "execution_count": 96,
   "id": "c66aa3fb",
   "metadata": {
    "hidden": true
   },
   "outputs": [
    {
     "data": {
      "text/plain": [
       "2"
      ]
     },
     "execution_count": 96,
     "metadata": {},
     "output_type": "execute_result"
    }
   ],
   "source": [
    "a.ndim  #tells us number of dimensions"
   ]
  },
  {
   "cell_type": "code",
   "execution_count": 97,
   "id": "5b6fdf5c",
   "metadata": {
    "hidden": true
   },
   "outputs": [
    {
     "data": {
      "text/plain": [
       "(2, 3)"
      ]
     },
     "execution_count": 97,
     "metadata": {},
     "output_type": "execute_result"
    }
   ],
   "source": [
    "a.shape #it tells us number of elements along a particular dimension"
   ]
  },
  {
   "cell_type": "markdown",
   "id": "49864ca0",
   "metadata": {
    "hidden": true
   },
   "source": [
    "**We can have objects - list, tupples, dictionaries, inside numpy arrays. But we don't use them.**\n",
    "example of list- (1,1.0,\"string\")  \n",
    "\n",
    "Reasons why we don't use them-  \n",
    "these lists and dictionaries are mutable. We can increase and decrease the size. Hence, we are losing out on the capabilities of fast and efficient numpy methods. BEcause it will be same as a python list."
   ]
  },
  {
   "cell_type": "code",
   "execution_count": 99,
   "id": "5f38377d",
   "metadata": {
    "hidden": true
   },
   "outputs": [
    {
     "data": {
      "text/plain": [
       "6"
      ]
     },
     "execution_count": 99,
     "metadata": {},
     "output_type": "execute_result"
    }
   ],
   "source": [
    "a.size #total number of eelemts inside the numpy array."
   ]
  },
  {
   "cell_type": "code",
   "execution_count": 100,
   "id": "9f61386b",
   "metadata": {
    "hidden": true
   },
   "outputs": [
    {
     "data": {
      "text/plain": [
       "2"
      ]
     },
     "execution_count": 100,
     "metadata": {},
     "output_type": "execute_result"
    }
   ],
   "source": [
    "len(a)"
   ]
  },
  {
   "cell_type": "code",
   "execution_count": 101,
   "id": "d1178e18",
   "metadata": {
    "hidden": true
   },
   "outputs": [
    {
     "data": {
      "text/plain": [
       "array([ 1,  2,  3,  4,  5,  6,  7,  8,  9, 10, 11, 12])"
      ]
     },
     "execution_count": 101,
     "metadata": {},
     "output_type": "execute_result"
    }
   ],
   "source": [
    "a=np.arange(1,13)\n",
    "a"
   ]
  },
  {
   "cell_type": "code",
   "execution_count": 102,
   "id": "9357118c",
   "metadata": {
    "hidden": true
   },
   "outputs": [
    {
     "data": {
      "text/plain": [
       "1"
      ]
     },
     "execution_count": 102,
     "metadata": {},
     "output_type": "execute_result"
    }
   ],
   "source": [
    "a.ndim"
   ]
  },
  {
   "cell_type": "code",
   "execution_count": 103,
   "id": "e2c39bfb",
   "metadata": {
    "hidden": true
   },
   "outputs": [
    {
     "data": {
      "text/plain": [
       "(12,)"
      ]
     },
     "execution_count": 103,
     "metadata": {},
     "output_type": "execute_result"
    }
   ],
   "source": [
    "a.shape"
   ]
  },
  {
   "cell_type": "markdown",
   "id": "cc82cf02",
   "metadata": {
    "hidden": true
   },
   "source": [
    "**Reshape**"
   ]
  },
  {
   "cell_type": "code",
   "execution_count": 104,
   "id": "8a4fa4c4",
   "metadata": {
    "hidden": true
   },
   "outputs": [
    {
     "data": {
      "text/plain": [
       "array([[ 1,  2,  3,  4],\n",
       "       [ 5,  6,  7,  8],\n",
       "       [ 9, 10, 11, 12]])"
      ]
     },
     "execution_count": 104,
     "metadata": {},
     "output_type": "execute_result"
    }
   ],
   "source": [
    "a.reshape((3,4))"
   ]
  },
  {
   "cell_type": "code",
   "execution_count": 105,
   "id": "67c93bc0",
   "metadata": {
    "hidden": true
   },
   "outputs": [
    {
     "data": {
      "text/plain": [
       "array([[ 1,  2,  3,  4,  5,  6,  7,  8,  9, 10, 11, 12]])"
      ]
     },
     "execution_count": 105,
     "metadata": {},
     "output_type": "execute_result"
    }
   ],
   "source": [
    "a.reshape((1,12))"
   ]
  },
  {
   "cell_type": "code",
   "execution_count": 106,
   "id": "aca64f7b",
   "metadata": {
    "hidden": true
   },
   "outputs": [
    {
     "data": {
      "text/plain": [
       "array([[ 1],\n",
       "       [ 2],\n",
       "       [ 3],\n",
       "       [ 4],\n",
       "       [ 5],\n",
       "       [ 6],\n",
       "       [ 7],\n",
       "       [ 8],\n",
       "       [ 9],\n",
       "       [10],\n",
       "       [11],\n",
       "       [12]])"
      ]
     },
     "execution_count": 106,
     "metadata": {},
     "output_type": "execute_result"
    }
   ],
   "source": [
    "a.reshape((12,1))"
   ]
  },
  {
   "cell_type": "code",
   "execution_count": 107,
   "id": "0b1b2e10",
   "metadata": {
    "hidden": true
   },
   "outputs": [
    {
     "data": {
      "text/plain": [
       "array([ 1,  2,  3,  4,  5,  6,  7,  8,  9, 10, 11, 12])"
      ]
     },
     "execution_count": 107,
     "metadata": {},
     "output_type": "execute_result"
    }
   ],
   "source": [
    "a #remains unaffected"
   ]
  },
  {
   "cell_type": "code",
   "execution_count": 108,
   "id": "62989ee8",
   "metadata": {
    "hidden": true
   },
   "outputs": [
    {
     "ename": "ValueError",
     "evalue": "cannot reshape array of size 12 into shape (5,2)",
     "output_type": "error",
     "traceback": [
      "\u001b[0;31m---------------------------------------------------------------------------\u001b[0m",
      "\u001b[0;31mValueError\u001b[0m                                Traceback (most recent call last)",
      "Cell \u001b[0;32mIn[108], line 1\u001b[0m\n\u001b[0;32m----> 1\u001b[0m a\u001b[38;5;241m.\u001b[39mreshape((\u001b[38;5;241m5\u001b[39m,\u001b[38;5;241m2\u001b[39m))\n",
      "\u001b[0;31mValueError\u001b[0m: cannot reshape array of size 12 into shape (5,2)"
     ]
    }
   ],
   "source": [
    "a.reshape((5,2))"
   ]
  },
  {
   "cell_type": "markdown",
   "id": "7819d892",
   "metadata": {
    "hidden": true
   },
   "source": [
    "**Concept of negative value in reshape**"
   ]
  },
  {
   "cell_type": "code",
   "execution_count": 113,
   "id": "59739172",
   "metadata": {
    "hidden": true
   },
   "outputs": [
    {
     "data": {
      "text/plain": [
       "array([[ 1,  2],\n",
       "       [ 3,  4],\n",
       "       [ 5,  6],\n",
       "       [ 7,  8],\n",
       "       [ 9, 10],\n",
       "       [11, 12]])"
      ]
     },
     "execution_count": 113,
     "metadata": {},
     "output_type": "execute_result"
    }
   ],
   "source": [
    "a.reshape((-1,2))  #numpy decides,even if we give just one unknown dimension"
   ]
  },
  {
   "cell_type": "code",
   "execution_count": 112,
   "id": "4c45a969",
   "metadata": {
    "hidden": true
   },
   "outputs": [
    {
     "data": {
      "text/plain": [
       "array([[ 1,  2,  3,  4,  5,  6],\n",
       "       [ 7,  8,  9, 10, 11, 12]])"
      ]
     },
     "execution_count": 112,
     "metadata": {},
     "output_type": "execute_result"
    }
   ],
   "source": [
    "a.reshape((2,-1))#numpy decides,even if we give just one unknown dimension"
   ]
  },
  {
   "cell_type": "code",
   "execution_count": 111,
   "id": "b8d1cdfb",
   "metadata": {
    "hidden": true
   },
   "outputs": [
    {
     "ename": "ValueError",
     "evalue": "can only specify one unknown dimension",
     "output_type": "error",
     "traceback": [
      "\u001b[0;31m---------------------------------------------------------------------------\u001b[0m",
      "\u001b[0;31mValueError\u001b[0m                                Traceback (most recent call last)",
      "Cell \u001b[0;32mIn[111], line 1\u001b[0m\n\u001b[0;32m----> 1\u001b[0m a\u001b[38;5;241m.\u001b[39mreshape(\u001b[38;5;241m-\u001b[39m\u001b[38;5;241m1\u001b[39m,\u001b[38;5;241m-\u001b[39m\u001b[38;5;241m1\u001b[39m)\n",
      "\u001b[0;31mValueError\u001b[0m: can only specify one unknown dimension"
     ]
    }
   ],
   "source": [
    "a.reshape(-1,-1)"
   ]
  },
  {
   "cell_type": "code",
   "execution_count": 114,
   "id": "28439ed2",
   "metadata": {
    "hidden": true
   },
   "outputs": [
    {
     "data": {
      "text/plain": [
       "array([ 1,  2,  3,  4,  5,  6,  7,  8,  9, 10, 11, 12])"
      ]
     },
     "execution_count": 114,
     "metadata": {},
     "output_type": "execute_result"
    }
   ],
   "source": [
    "a.reshape((-1,)) #num of dimensions- 1D"
   ]
  },
  {
   "cell_type": "code",
   "execution_count": 115,
   "id": "e8b729eb",
   "metadata": {
    "hidden": true
   },
   "outputs": [
    {
     "ename": "ValueError",
     "evalue": "cannot reshape array of size 12 into shape (5)",
     "output_type": "error",
     "traceback": [
      "\u001b[0;31m---------------------------------------------------------------------------\u001b[0m",
      "\u001b[0;31mValueError\u001b[0m                                Traceback (most recent call last)",
      "Cell \u001b[0;32mIn[115], line 1\u001b[0m\n\u001b[0;32m----> 1\u001b[0m a\u001b[38;5;241m.\u001b[39mreshape((\u001b[38;5;241m-\u001b[39m\u001b[38;5;241m1\u001b[39m,\u001b[38;5;241m5\u001b[39m))\n",
      "\u001b[0;31mValueError\u001b[0m: cannot reshape array of size 12 into shape (5)"
     ]
    }
   ],
   "source": [
    "a.reshape((-1,5))"
   ]
  },
  {
   "cell_type": "code",
   "execution_count": 116,
   "id": "9761ba5c",
   "metadata": {
    "hidden": true
   },
   "outputs": [
    {
     "ename": "SyntaxError",
     "evalue": "invalid syntax (183478571.py, line 1)",
     "output_type": "error",
     "traceback": [
      "\u001b[0;36m  Cell \u001b[0;32mIn[116], line 1\u001b[0;36m\u001b[0m\n\u001b[0;31m    a.reshape((,6))\u001b[0m\n\u001b[0m               ^\u001b[0m\n\u001b[0;31mSyntaxError\u001b[0m\u001b[0;31m:\u001b[0m invalid syntax\n"
     ]
    }
   ],
   "source": [
    "a.reshape((,6)) #"
   ]
  },
  {
   "cell_type": "markdown",
   "id": "ada7793e",
   "metadata": {
    "hidden": true
   },
   "source": [
    "**Here (,6) is not a tuple. So Invalid syntax error comes.**"
   ]
  },
  {
   "cell_type": "code",
   "execution_count": 117,
   "id": "382caf48",
   "metadata": {
    "hidden": true
   },
   "outputs": [
    {
     "data": {
      "text/plain": [
       "array([[[ 1,  2],\n",
       "        [ 3,  4]],\n",
       "\n",
       "       [[ 5,  6],\n",
       "        [ 7,  8]],\n",
       "\n",
       "       [[ 9, 10],\n",
       "        [11, 12]]])"
      ]
     },
     "execution_count": 117,
     "metadata": {},
     "output_type": "execute_result"
    }
   ],
   "source": [
    "a.reshape((3,2,2))"
   ]
  },
  {
   "cell_type": "code",
   "execution_count": 118,
   "id": "1aaa8bdf",
   "metadata": {
    "hidden": true
   },
   "outputs": [
    {
     "data": {
      "text/plain": [
       "array([[[ 1,  2],\n",
       "        [ 3,  4]],\n",
       "\n",
       "       [[ 5,  6],\n",
       "        [ 7,  8]],\n",
       "\n",
       "       [[ 9, 10],\n",
       "        [11, 12]]])"
      ]
     },
     "execution_count": 118,
     "metadata": {},
     "output_type": "execute_result"
    }
   ],
   "source": [
    "a.reshape((3,2,-1))"
   ]
  },
  {
   "cell_type": "code",
   "execution_count": 119,
   "id": "30ae24d4",
   "metadata": {
    "hidden": true
   },
   "outputs": [
    {
     "ename": "ValueError",
     "evalue": "can only specify one unknown dimension",
     "output_type": "error",
     "traceback": [
      "\u001b[0;31m---------------------------------------------------------------------------\u001b[0m",
      "\u001b[0;31mValueError\u001b[0m                                Traceback (most recent call last)",
      "Cell \u001b[0;32mIn[119], line 1\u001b[0m\n\u001b[0;32m----> 1\u001b[0m a\u001b[38;5;241m.\u001b[39mreshape((\u001b[38;5;241m3\u001b[39m,\u001b[38;5;241m-\u001b[39m\u001b[38;5;241m1\u001b[39m,\u001b[38;5;241m-\u001b[39m\u001b[38;5;241m1\u001b[39m))\n",
      "\u001b[0;31mValueError\u001b[0m: can only specify one unknown dimension"
     ]
    }
   ],
   "source": [
    "a.reshape((3,-1,-1))"
   ]
  },
  {
   "cell_type": "markdown",
   "id": "4d1aaf17",
   "metadata": {
    "hidden": true
   },
   "source": [
    "**As numpy can handle only one unknown variable.**  \n",
    "**We will with tuples,dictionaries in Panda.**"
   ]
  },
  {
   "cell_type": "markdown",
   "id": "9f269208",
   "metadata": {},
   "source": [
    "# Class 3"
   ]
  },
  {
   "cell_type": "markdown",
   "id": "1d63ea51",
   "metadata": {},
   "source": [
    "## 2D arrays(Matrices)"
   ]
  },
  {
   "cell_type": "markdown",
   "id": "9a22262a",
   "metadata": {
    "heading_collapsed": true
   },
   "source": [
    "### Transpose- a.transpose( ), a.T"
   ]
  },
  {
   "cell_type": "markdown",
   "id": "49112019",
   "metadata": {
    "hidden": true
   },
   "source": [
    "Transpose is converting rows into columns and columns into rows."
   ]
  },
  {
   "cell_type": "code",
   "execution_count": 120,
   "id": "503453c4",
   "metadata": {
    "hidden": true
   },
   "outputs": [
    {
     "data": {
      "text/plain": [
       "array([[ 1,  2,  3,  4],\n",
       "       [ 5,  6,  7,  8],\n",
       "       [ 9, 10, 11, 12]])"
      ]
     },
     "execution_count": 120,
     "metadata": {},
     "output_type": "execute_result"
    }
   ],
   "source": [
    "a = np.arange(1,13)\n",
    "a =a.reshape(3,4)\n",
    "a"
   ]
  },
  {
   "cell_type": "code",
   "execution_count": 121,
   "id": "cafcca77",
   "metadata": {
    "hidden": true
   },
   "outputs": [
    {
     "data": {
      "text/plain": [
       "array([[ 1,  5,  9],\n",
       "       [ 2,  6, 10],\n",
       "       [ 3,  7, 11],\n",
       "       [ 4,  8, 12]])"
      ]
     },
     "execution_count": 121,
     "metadata": {},
     "output_type": "execute_result"
    }
   ],
   "source": [
    "a.transpose()"
   ]
  },
  {
   "cell_type": "code",
   "execution_count": 122,
   "id": "5f26bc8e",
   "metadata": {
    "hidden": true
   },
   "outputs": [
    {
     "data": {
      "text/plain": [
       "array([[ 1,  5,  9],\n",
       "       [ 2,  6, 10],\n",
       "       [ 3,  7, 11],\n",
       "       [ 4,  8, 12]])"
      ]
     },
     "execution_count": 122,
     "metadata": {},
     "output_type": "execute_result"
    }
   ],
   "source": [
    "a.T"
   ]
  },
  {
   "cell_type": "code",
   "execution_count": 124,
   "id": "feb7c7dd",
   "metadata": {
    "hidden": true
   },
   "outputs": [],
   "source": [
    "b=np.arange(1,13)\n",
    "c=b.reshape((1,12))"
   ]
  },
  {
   "cell_type": "code",
   "execution_count": 125,
   "id": "19679306",
   "metadata": {
    "hidden": true
   },
   "outputs": [
    {
     "data": {
      "text/plain": [
       "array([ 1,  2,  3,  4,  5,  6,  7,  8,  9, 10, 11, 12])"
      ]
     },
     "execution_count": 125,
     "metadata": {},
     "output_type": "execute_result"
    }
   ],
   "source": [
    "b"
   ]
  },
  {
   "cell_type": "code",
   "execution_count": 126,
   "id": "b0cbb93e",
   "metadata": {
    "hidden": true
   },
   "outputs": [
    {
     "data": {
      "text/plain": [
       "array([[ 1,  2,  3,  4,  5,  6,  7,  8,  9, 10, 11, 12]])"
      ]
     },
     "execution_count": 126,
     "metadata": {},
     "output_type": "execute_result"
    }
   ],
   "source": [
    "c"
   ]
  },
  {
   "cell_type": "code",
   "execution_count": 128,
   "id": "8effa2e9",
   "metadata": {
    "hidden": true
   },
   "outputs": [
    {
     "data": {
      "text/plain": [
       "(12,)"
      ]
     },
     "execution_count": 128,
     "metadata": {},
     "output_type": "execute_result"
    }
   ],
   "source": [
    "b.shape"
   ]
  },
  {
   "cell_type": "code",
   "execution_count": 129,
   "id": "9cf8f8da",
   "metadata": {
    "hidden": true
   },
   "outputs": [
    {
     "data": {
      "text/plain": [
       "(1, 12)"
      ]
     },
     "execution_count": 129,
     "metadata": {},
     "output_type": "execute_result"
    }
   ],
   "source": [
    "c.shape"
   ]
  },
  {
   "cell_type": "code",
   "execution_count": 130,
   "id": "4ffd4c2b",
   "metadata": {
    "hidden": true
   },
   "outputs": [
    {
     "data": {
      "text/plain": [
       "array([[ 1],\n",
       "       [ 2],\n",
       "       [ 3],\n",
       "       [ 4],\n",
       "       [ 5],\n",
       "       [ 6],\n",
       "       [ 7],\n",
       "       [ 8],\n",
       "       [ 9],\n",
       "       [10],\n",
       "       [11],\n",
       "       [12]])"
      ]
     },
     "execution_count": 130,
     "metadata": {},
     "output_type": "execute_result"
    }
   ],
   "source": [
    "c.T"
   ]
  },
  {
   "cell_type": "code",
   "execution_count": 131,
   "id": "8b54bac7",
   "metadata": {
    "hidden": true
   },
   "outputs": [
    {
     "data": {
      "text/plain": [
       "array([ 1,  2,  3,  4,  5,  6,  7,  8,  9, 10, 11, 12])"
      ]
     },
     "execution_count": 131,
     "metadata": {},
     "output_type": "execute_result"
    }
   ],
   "source": [
    "b.T"
   ]
  },
  {
   "cell_type": "markdown",
   "id": "4a7fb208",
   "metadata": {
    "hidden": true
   },
   "source": [
    "It stays same as it has only 1 dimension. And we cannot move into another direction."
   ]
  },
  {
   "cell_type": "markdown",
   "id": "b3898729",
   "metadata": {
    "heading_collapsed": true
   },
   "source": [
    "### Flatten"
   ]
  },
  {
   "cell_type": "markdown",
   "id": "d62548ff",
   "metadata": {
    "hidden": true
   },
   "source": [
    "**Any \"n\" dimensional array can be converted to a 1 Dimensional array**"
   ]
  },
  {
   "cell_type": "code",
   "execution_count": 132,
   "id": "abcacaf8",
   "metadata": {
    "hidden": true
   },
   "outputs": [
    {
     "data": {
      "text/plain": [
       "array([[ 1,  2,  3,  4],\n",
       "       [ 5,  6,  7,  8],\n",
       "       [ 9, 10, 11, 12]])"
      ]
     },
     "execution_count": 132,
     "metadata": {},
     "output_type": "execute_result"
    }
   ],
   "source": [
    "a"
   ]
  },
  {
   "cell_type": "code",
   "execution_count": 135,
   "id": "4ccd2453",
   "metadata": {
    "hidden": true
   },
   "outputs": [
    {
     "data": {
      "text/plain": [
       "array([ 1,  2,  3,  4,  5,  6,  7,  8,  9, 10, 11, 12])"
      ]
     },
     "execution_count": 135,
     "metadata": {},
     "output_type": "execute_result"
    }
   ],
   "source": [
    "a.flatten()  #doesn't change the a array"
   ]
  },
  {
   "cell_type": "markdown",
   "id": "f5a0b516",
   "metadata": {
    "heading_collapsed": true
   },
   "source": [
    "### Indexing, Slicing and Masking on 2D"
   ]
  },
  {
   "cell_type": "markdown",
   "id": "dbe7b463",
   "metadata": {
    "heading_collapsed": true,
    "hidden": true
   },
   "source": [
    "#### Indexing"
   ]
  },
  {
   "cell_type": "code",
   "execution_count": 134,
   "id": "4d33f40c",
   "metadata": {
    "hidden": true
   },
   "outputs": [
    {
     "data": {
      "text/plain": [
       "array([[ 1,  2,  3,  4],\n",
       "       [ 5,  6,  7,  8],\n",
       "       [ 9, 10, 11, 12]])"
      ]
     },
     "execution_count": 134,
     "metadata": {},
     "output_type": "execute_result"
    }
   ],
   "source": [
    "a"
   ]
  },
  {
   "cell_type": "markdown",
   "id": "ac5b2905",
   "metadata": {
    "hidden": true
   },
   "source": [
    "**Method 1**"
   ]
  },
  {
   "cell_type": "code",
   "execution_count": 138,
   "id": "ff884d33",
   "metadata": {
    "hidden": true
   },
   "outputs": [
    {
     "data": {
      "text/plain": [
       "6"
      ]
     },
     "execution_count": 138,
     "metadata": {},
     "output_type": "execute_result"
    }
   ],
   "source": [
    "a[1][1]  #don't use this"
   ]
  },
  {
   "cell_type": "markdown",
   "id": "6e2a8d92",
   "metadata": {
    "hidden": true
   },
   "source": [
    "**Method 2**"
   ]
  },
  {
   "cell_type": "code",
   "execution_count": 137,
   "id": "beda3a37",
   "metadata": {
    "hidden": true
   },
   "outputs": [
    {
     "data": {
      "text/plain": [
       "6"
      ]
     },
     "execution_count": 137,
     "metadata": {},
     "output_type": "execute_result"
    }
   ],
   "source": [
    "a[1,1] #right way of indexing a[Rows,columns]\n"
   ]
  },
  {
   "cell_type": "code",
   "execution_count": 139,
   "id": "e23a8c89",
   "metadata": {
    "hidden": true
   },
   "outputs": [
    {
     "data": {
      "text/plain": [
       "11"
      ]
     },
     "execution_count": 139,
     "metadata": {},
     "output_type": "execute_result"
    }
   ],
   "source": [
    "a[-1,-2]"
   ]
  },
  {
   "cell_type": "code",
   "execution_count": 140,
   "id": "177f86b2",
   "metadata": {
    "hidden": true
   },
   "outputs": [
    {
     "data": {
      "text/plain": [
       "11"
      ]
     },
     "execution_count": 140,
     "metadata": {},
     "output_type": "execute_result"
    }
   ],
   "source": [
    "a[2,-2]"
   ]
  },
  {
   "cell_type": "code",
   "execution_count": 142,
   "id": "875f86a7",
   "metadata": {
    "hidden": true
   },
   "outputs": [
    {
     "data": {
      "text/plain": [
       "array([ 6, 11, 12])"
      ]
     },
     "execution_count": 142,
     "metadata": {},
     "output_type": "execute_result"
    }
   ],
   "source": [
    "a[[1,2,2],[1,2,3]]   #[row indexes], [column indexes]"
   ]
  },
  {
   "cell_type": "code",
   "execution_count": 143,
   "id": "6a18c4e0",
   "metadata": {
    "hidden": true
   },
   "outputs": [
    {
     "data": {
      "text/plain": [
       "array([ 3, 12,  9])"
      ]
     },
     "execution_count": 143,
     "metadata": {},
     "output_type": "execute_result"
    }
   ],
   "source": [
    "a[[0,2,2],[2,3,0]]"
   ]
  },
  {
   "cell_type": "code",
   "execution_count": 144,
   "id": "041112c3",
   "metadata": {
    "hidden": true
   },
   "outputs": [
    {
     "data": {
      "text/plain": [
       "array([ 6,  4, 10,  8])"
      ]
     },
     "execution_count": 144,
     "metadata": {},
     "output_type": "execute_result"
    }
   ],
   "source": [
    "a[[-2,-3,-1,-2],[-3,-1,-3,-1]]"
   ]
  },
  {
   "cell_type": "markdown",
   "id": "155accc7",
   "metadata": {
    "heading_collapsed": true,
    "hidden": true
   },
   "source": [
    "#### Slicing"
   ]
  },
  {
   "cell_type": "code",
   "execution_count": 145,
   "id": "c588515f",
   "metadata": {
    "hidden": true
   },
   "outputs": [
    {
     "data": {
      "text/plain": [
       "array([[ 1,  2,  3,  4],\n",
       "       [ 5,  6,  7,  8],\n",
       "       [ 9, 10, 11, 12]])"
      ]
     },
     "execution_count": 145,
     "metadata": {},
     "output_type": "execute_result"
    }
   ],
   "source": [
    "a"
   ]
  },
  {
   "cell_type": "code",
   "execution_count": 146,
   "id": "976f02fe",
   "metadata": {
    "hidden": true
   },
   "outputs": [
    {
     "data": {
      "text/plain": [
       "array([[ 1,  2,  3,  4],\n",
       "       [ 5,  6,  7,  8],\n",
       "       [ 9, 10, 11, 12]])"
      ]
     },
     "execution_count": 146,
     "metadata": {},
     "output_type": "execute_result"
    }
   ],
   "source": [
    "a[::,::]"
   ]
  },
  {
   "cell_type": "code",
   "execution_count": 147,
   "id": "10e3a6ad",
   "metadata": {
    "hidden": true
   },
   "outputs": [
    {
     "data": {
      "text/plain": [
       "array([[1, 2, 3, 4],\n",
       "       [5, 6, 7, 8]])"
      ]
     },
     "execution_count": 147,
     "metadata": {},
     "output_type": "execute_result"
    }
   ],
   "source": [
    "a[:2:1,::]"
   ]
  },
  {
   "cell_type": "code",
   "execution_count": 148,
   "id": "c017f383",
   "metadata": {
    "hidden": true
   },
   "outputs": [
    {
     "data": {
      "text/plain": [
       "array([[2, 4],\n",
       "       [6, 8]])"
      ]
     },
     "execution_count": 148,
     "metadata": {},
     "output_type": "execute_result"
    }
   ],
   "source": [
    "a[:2:1,1::2]"
   ]
  },
  {
   "cell_type": "code",
   "execution_count": 149,
   "id": "372db6d7",
   "metadata": {
    "hidden": true
   },
   "outputs": [
    {
     "data": {
      "text/plain": [
       "array([[7, 8],\n",
       "       [3, 4]])"
      ]
     },
     "execution_count": 149,
     "metadata": {},
     "output_type": "execute_result"
    }
   ],
   "source": [
    " a[1::-1,2::1]"
   ]
  },
  {
   "cell_type": "code",
   "execution_count": 150,
   "id": "f3c72044",
   "metadata": {
    "hidden": true
   },
   "outputs": [
    {
     "data": {
      "text/plain": [
       "array([[7, 6, 5],\n",
       "       [3, 2, 1]])"
      ]
     },
     "execution_count": 150,
     "metadata": {},
     "output_type": "execute_result"
    }
   ],
   "source": [
    "a[1::-1,2::-1]"
   ]
  },
  {
   "cell_type": "code",
   "execution_count": 153,
   "id": "a7995300",
   "metadata": {
    "hidden": true
   },
   "outputs": [
    {
     "data": {
      "text/plain": [
       "array([[3, 1]])"
      ]
     },
     "execution_count": 153,
     "metadata": {},
     "output_type": "execute_result"
    }
   ],
   "source": [
    "a[0:2:2,-2::-2]"
   ]
  },
  {
   "cell_type": "code",
   "execution_count": 154,
   "id": "274796e0",
   "metadata": {
    "hidden": true
   },
   "outputs": [
    {
     "data": {
      "text/plain": [
       "array([], shape=(1, 0), dtype=int64)"
      ]
     },
     "execution_count": 154,
     "metadata": {},
     "output_type": "execute_result"
    }
   ],
   "source": [
    "a[0:2:2,-2:-1:-2]"
   ]
  },
  {
   "cell_type": "code",
   "execution_count": 156,
   "id": "738e84c7",
   "metadata": {
    "hidden": true
   },
   "outputs": [
    {
     "data": {
      "text/plain": [
       "array([[12],\n",
       "       [ 4]])"
      ]
     },
     "execution_count": 156,
     "metadata": {},
     "output_type": "execute_result"
    }
   ],
   "source": [
    "a[::-2,:-4:-3]"
   ]
  },
  {
   "cell_type": "markdown",
   "id": "0c24dc1a",
   "metadata": {
    "hidden": true
   },
   "source": [
    "#### Masking"
   ]
  },
  {
   "cell_type": "code",
   "execution_count": 169,
   "id": "90e7ce97",
   "metadata": {
    "hidden": true
   },
   "outputs": [
    {
     "data": {
      "text/plain": [
       "array([[ 1,  2,  3,  4],\n",
       "       [ 5,  6,  7,  8],\n",
       "       [ 9, 10, 11, 12]])"
      ]
     },
     "execution_count": 169,
     "metadata": {},
     "output_type": "execute_result"
    }
   ],
   "source": [
    "a=np.array([[ 1,  2,  3,  4],\n",
    "       [ 5,  6,  7,  8],\n",
    "       [ 9, 10, 11, 12]])\n",
    "a"
   ]
  },
  {
   "cell_type": "code",
   "execution_count": 158,
   "id": "87743ec9",
   "metadata": {
    "hidden": true
   },
   "outputs": [
    {
     "data": {
      "text/plain": [
       "array([[11, 12, 13, 14],\n",
       "       [15, 16, 17, 18],\n",
       "       [19, 20, 21, 22]])"
      ]
     },
     "execution_count": 158,
     "metadata": {},
     "output_type": "execute_result"
    }
   ],
   "source": [
    "a+10"
   ]
  },
  {
   "cell_type": "code",
   "execution_count": 159,
   "id": "1e203592",
   "metadata": {
    "hidden": true
   },
   "outputs": [
    {
     "data": {
      "text/plain": [
       "array([[ True,  True,  True,  True],\n",
       "       [ True,  True,  True,  True],\n",
       "       [ True, False, False, False]])"
      ]
     },
     "execution_count": 159,
     "metadata": {},
     "output_type": "execute_result"
    }
   ],
   "source": [
    "a<10"
   ]
  },
  {
   "cell_type": "code",
   "execution_count": 160,
   "id": "a7c7e034",
   "metadata": {
    "hidden": true
   },
   "outputs": [
    {
     "data": {
      "text/plain": [
       "array([1, 2, 3, 4, 5, 6, 7, 8, 9])"
      ]
     },
     "execution_count": 160,
     "metadata": {},
     "output_type": "execute_result"
    }
   ],
   "source": [
    "a[a<10]"
   ]
  },
  {
   "cell_type": "markdown",
   "id": "f4f52d54",
   "metadata": {
    "hidden": true
   },
   "source": [
    "**We get an 1 D array. Why?  \n",
    "Creators thought if we keep maksing output in 1 D, we can get answers in a fixed format. It wouldn't change as per the dimension, Cz we don't know how many elements in output we will get.**"
   ]
  },
  {
   "cell_type": "code",
   "execution_count": 161,
   "id": "55d63de6",
   "metadata": {
    "hidden": true
   },
   "outputs": [
    {
     "data": {
      "text/plain": [
       "array([ 2,  4,  5,  6,  8, 10, 12])"
      ]
     },
     "execution_count": 161,
     "metadata": {},
     "output_type": "execute_result"
    }
   ],
   "source": [
    "a[(a%2==0)|(a%5==0)]"
   ]
  },
  {
   "cell_type": "markdown",
   "id": "f99edb05",
   "metadata": {
    "heading_collapsed": true
   },
   "source": [
    "### Universal Functions"
   ]
  },
  {
   "cell_type": "markdown",
   "id": "8872b2f8",
   "metadata": {
    "hidden": true
   },
   "source": [
    "np.mean  \n",
    "np.max  \n",
    "np.sum. \n",
    "etc"
   ]
  },
  {
   "cell_type": "markdown",
   "id": "65471df0",
   "metadata": {
    "heading_collapsed": true,
    "hidden": true
   },
   "source": [
    "#### Axis Argument"
   ]
  },
  {
   "cell_type": "markdown",
   "id": "014ca84e",
   "metadata": {
    "hidden": true
   },
   "source": [
    "Any Changw/rearrangement in 2 D numpy arrays, if one is moving  \n",
    "vertical axis- value of axis is 0.  \n",
    "and if we are moving in horizontal direction value of axis will be 1"
   ]
  },
  {
   "cell_type": "code",
   "execution_count": 170,
   "id": "7548984f",
   "metadata": {
    "hidden": true
   },
   "outputs": [
    {
     "data": {
      "text/plain": [
       "array([[ 1,  2,  3,  4],\n",
       "       [ 5,  6,  7,  8],\n",
       "       [ 9, 10, 11, 12]])"
      ]
     },
     "execution_count": 170,
     "metadata": {},
     "output_type": "execute_result"
    }
   ],
   "source": [
    "a = np.array([[ 1,  2,  3,  4],\n",
    "       [ 5,  6,  7,  8],\n",
    "       [ 9, 10, 11, 12]])\n",
    "a"
   ]
  },
  {
   "cell_type": "code",
   "execution_count": 172,
   "id": "9c49f4bd",
   "metadata": {
    "hidden": true
   },
   "outputs": [
    {
     "data": {
      "text/plain": [
       "array([15, 18, 21, 24])"
      ]
     },
     "execution_count": 172,
     "metadata": {},
     "output_type": "execute_result"
    }
   ],
   "source": [
    "np.sum(a,axis=0)"
   ]
  },
  {
   "cell_type": "code",
   "execution_count": 173,
   "id": "54add7af",
   "metadata": {
    "hidden": true
   },
   "outputs": [
    {
     "data": {
      "text/plain": [
       "array([10, 26, 42])"
      ]
     },
     "execution_count": 173,
     "metadata": {},
     "output_type": "execute_result"
    }
   ],
   "source": [
    "np.sum(a,axis=1)"
   ]
  },
  {
   "cell_type": "code",
   "execution_count": 174,
   "id": "7c7dce9a",
   "metadata": {
    "hidden": true
   },
   "outputs": [
    {
     "data": {
      "text/plain": [
       "array([10, 26, 42])"
      ]
     },
     "execution_count": 174,
     "metadata": {},
     "output_type": "execute_result"
    }
   ],
   "source": [
    "np.sum(a,axis=-1)"
   ]
  },
  {
   "cell_type": "code",
   "execution_count": 175,
   "id": "9f77e7bd",
   "metadata": {
    "hidden": true
   },
   "outputs": [
    {
     "data": {
      "text/plain": [
       "array([15, 18, 21, 24])"
      ]
     },
     "execution_count": 175,
     "metadata": {},
     "output_type": "execute_result"
    }
   ],
   "source": [
    "np.sum(a,axis=-2)"
   ]
  },
  {
   "cell_type": "code",
   "execution_count": 176,
   "id": "1345c703",
   "metadata": {
    "hidden": true,
    "scrolled": true
   },
   "outputs": [
    {
     "data": {
      "text/plain": [
       "array([[ 1,  2,  3,  4],\n",
       "       [ 5,  6,  7,  8],\n",
       "       [ 9, 10, 11, 12]])"
      ]
     },
     "execution_count": 176,
     "metadata": {},
     "output_type": "execute_result"
    }
   ],
   "source": [
    "a"
   ]
  },
  {
   "cell_type": "code",
   "execution_count": 177,
   "id": "b1182509",
   "metadata": {
    "hidden": true
   },
   "outputs": [
    {
     "data": {
      "text/plain": [
       "array([1, 2, 3, 4])"
      ]
     },
     "execution_count": 177,
     "metadata": {},
     "output_type": "execute_result"
    }
   ],
   "source": [
    "np.min(a,axis=-2)"
   ]
  },
  {
   "cell_type": "code",
   "execution_count": 178,
   "id": "b0c9af24",
   "metadata": {
    "hidden": true
   },
   "outputs": [
    {
     "data": {
      "text/plain": [
       "array([1, 5, 9])"
      ]
     },
     "execution_count": 178,
     "metadata": {},
     "output_type": "execute_result"
    }
   ],
   "source": [
    "np.min(a,axis=1)"
   ]
  },
  {
   "cell_type": "code",
   "execution_count": 179,
   "id": "426ec799",
   "metadata": {
    "hidden": true
   },
   "outputs": [
    {
     "data": {
      "text/plain": [
       "array([1, 5, 9])"
      ]
     },
     "execution_count": 179,
     "metadata": {},
     "output_type": "execute_result"
    }
   ],
   "source": [
    "np.min(a,axis = -1)"
   ]
  },
  {
   "cell_type": "code",
   "execution_count": null,
   "id": "f7cea65d",
   "metadata": {
    "hidden": true
   },
   "outputs": [],
   "source": []
  },
  {
   "cell_type": "markdown",
   "id": "c41f311e",
   "metadata": {
    "heading_collapsed": true,
    "hidden": true
   },
   "source": [
    "#### Logical Operation"
   ]
  },
  {
   "cell_type": "code",
   "execution_count": 190,
   "id": "b90b7b66",
   "metadata": {
    "hidden": true
   },
   "outputs": [
    {
     "data": {
      "text/plain": [
       "array([[ 10,   2,  99],\n",
       "       [100,   4,  21],\n",
       "       [ 32,   5,  12],\n",
       "       [  9,  57,  45]])"
      ]
     },
     "execution_count": 190,
     "metadata": {},
     "output_type": "execute_result"
    }
   ],
   "source": [
    "a"
   ]
  },
  {
   "cell_type": "code",
   "execution_count": 191,
   "id": "8012fa70",
   "metadata": {
    "hidden": true
   },
   "outputs": [
    {
     "data": {
      "text/plain": [
       "array([[False,  True, False],\n",
       "       [False,  True, False],\n",
       "       [False,  True, False],\n",
       "       [ True, False, False]])"
      ]
     },
     "execution_count": 191,
     "metadata": {},
     "output_type": "execute_result"
    }
   ],
   "source": [
    "a<10"
   ]
  },
  {
   "cell_type": "code",
   "execution_count": 192,
   "id": "753d8a56",
   "metadata": {
    "hidden": true
   },
   "outputs": [
    {
     "data": {
      "text/plain": [
       "array([2, 4, 5, 9])"
      ]
     },
     "execution_count": 192,
     "metadata": {},
     "output_type": "execute_result"
    }
   ],
   "source": [
    "a[a<10]"
   ]
  },
  {
   "cell_type": "code",
   "execution_count": 193,
   "id": "3d973dd4",
   "metadata": {
    "hidden": true
   },
   "outputs": [
    {
     "data": {
      "text/plain": [
       "array([[ 1,  2,  3],\n",
       "       [ 4,  5,  6],\n",
       "       [ 7,  8,  9],\n",
       "       [10, 11, 12]])"
      ]
     },
     "execution_count": 193,
     "metadata": {},
     "output_type": "execute_result"
    }
   ],
   "source": [
    "b=np.arange(1,13).reshape((4,3))\n",
    "b"
   ]
  },
  {
   "cell_type": "code",
   "execution_count": 194,
   "id": "21787a0e",
   "metadata": {
    "hidden": true
   },
   "outputs": [
    {
     "data": {
      "text/plain": [
       "array([[False, False, False],\n",
       "       [False,  True, False],\n",
       "       [False,  True, False],\n",
       "       [ True, False, False]])"
      ]
     },
     "execution_count": 194,
     "metadata": {},
     "output_type": "execute_result"
    }
   ],
   "source": [
    "a<b"
   ]
  },
  {
   "cell_type": "code",
   "execution_count": 195,
   "id": "61e9ada4",
   "metadata": {
    "hidden": true
   },
   "outputs": [
    {
     "data": {
      "text/plain": [
       "False"
      ]
     },
     "execution_count": 195,
     "metadata": {},
     "output_type": "execute_result"
    }
   ],
   "source": [
    "np.all(a<b)"
   ]
  },
  {
   "cell_type": "code",
   "execution_count": 196,
   "id": "978c33c1",
   "metadata": {
    "hidden": true,
    "scrolled": true
   },
   "outputs": [
    {
     "data": {
      "text/plain": [
       "True"
      ]
     },
     "execution_count": 196,
     "metadata": {},
     "output_type": "execute_result"
    }
   ],
   "source": [
    "np.any(a<b)"
   ]
  },
  {
   "cell_type": "code",
   "execution_count": null,
   "id": "c95a17f5",
   "metadata": {
    "hidden": true
   },
   "outputs": [],
   "source": [
    "#1D np array"
   ]
  },
  {
   "cell_type": "code",
   "execution_count": 209,
   "id": "61dd7240",
   "metadata": {
    "hidden": true
   },
   "outputs": [
    {
     "data": {
      "text/plain": [
       "array([2, 7, 3, 9, 4, 1, 6, 7])"
      ]
     },
     "execution_count": 209,
     "metadata": {},
     "output_type": "execute_result"
    }
   ],
   "source": [
    "a=np.array([2,7,3,9,4,1,6,7])\n",
    "a"
   ]
  },
  {
   "cell_type": "markdown",
   "id": "b34cec29",
   "metadata": {
    "hidden": true
   },
   "source": [
    "**#Method 1**"
   ]
  },
  {
   "cell_type": "code",
   "execution_count": 203,
   "id": "8509711c",
   "metadata": {
    "hidden": true
   },
   "outputs": [
    {
     "name": "stdout",
     "output_type": "stream",
     "text": [
      "[1 2 3 4 6 7 7 9]\n",
      "[2 7 3 9 4 1 6 7]\n"
     ]
    }
   ],
   "source": [
    "print(np.sort(a))\n",
    "print(a)"
   ]
  },
  {
   "cell_type": "markdown",
   "id": "1cbac457",
   "metadata": {
    "hidden": true
   },
   "source": [
    "**#Method 2:**  **This is infact changing the entire array and sorting it**"
   ]
  },
  {
   "cell_type": "code",
   "execution_count": 204,
   "id": "ebb6c7cb",
   "metadata": {
    "hidden": true
   },
   "outputs": [
    {
     "data": {
      "text/plain": [
       "array([1, 2, 3, 4, 6, 7, 7, 9])"
      ]
     },
     "execution_count": 204,
     "metadata": {},
     "output_type": "execute_result"
    }
   ],
   "source": [
    "a.sort()\n",
    "a"
   ]
  },
  {
   "cell_type": "code",
   "execution_count": 207,
   "id": "ced56ab6",
   "metadata": {
    "hidden": true
   },
   "outputs": [
    {
     "data": {
      "text/plain": [
       "9"
      ]
     },
     "execution_count": 207,
     "metadata": {},
     "output_type": "execute_result"
    }
   ],
   "source": [
    "np.max(a)"
   ]
  },
  {
   "cell_type": "code",
   "execution_count": 206,
   "id": "01f6de88",
   "metadata": {
    "hidden": true
   },
   "outputs": [
    {
     "data": {
      "text/plain": [
       "9"
      ]
     },
     "execution_count": 206,
     "metadata": {},
     "output_type": "execute_result"
    }
   ],
   "source": [
    "a.max()"
   ]
  },
  {
   "cell_type": "markdown",
   "id": "19f17db5",
   "metadata": {
    "heading_collapsed": true,
    "hidden": true
   },
   "source": [
    "#### Sorting function - `sort( ), argsort( )`"
   ]
  },
  {
   "cell_type": "code",
   "execution_count": 180,
   "id": "277fd36a",
   "metadata": {
    "hidden": true
   },
   "outputs": [],
   "source": [
    "a= np.array([[10, 2, 99], \n",
    "        [100, 4, 21],\n",
    "        [ 32,  5, 12],\n",
    "        [ 9,  57, 45]])"
   ]
  },
  {
   "cell_type": "code",
   "execution_count": 183,
   "id": "5698b4b8",
   "metadata": {
    "hidden": true
   },
   "outputs": [
    {
     "data": {
      "text/plain": [
       "array([[ 10,   2,  99],\n",
       "       [100,   4,  21],\n",
       "       [ 32,   5,  12],\n",
       "       [  9,  57,  45]])"
      ]
     },
     "execution_count": 183,
     "metadata": {},
     "output_type": "execute_result"
    }
   ],
   "source": [
    "a"
   ]
  },
  {
   "cell_type": "code",
   "execution_count": 184,
   "id": "71e20d44",
   "metadata": {
    "hidden": true
   },
   "outputs": [
    {
     "data": {
      "text/plain": [
       "array([[  9,   2,  12],\n",
       "       [ 10,   4,  21],\n",
       "       [ 32,   5,  45],\n",
       "       [100,  57,  99]])"
      ]
     },
     "execution_count": 184,
     "metadata": {},
     "output_type": "execute_result"
    }
   ],
   "source": [
    "np.sort(a,axis=0)"
   ]
  },
  {
   "cell_type": "code",
   "execution_count": 185,
   "id": "70ef8628",
   "metadata": {
    "hidden": true
   },
   "outputs": [
    {
     "data": {
      "text/plain": [
       "array([[  9,   2,  12],\n",
       "       [ 10,   4,  21],\n",
       "       [ 32,   5,  45],\n",
       "       [100,  57,  99]])"
      ]
     },
     "execution_count": 185,
     "metadata": {},
     "output_type": "execute_result"
    }
   ],
   "source": [
    "np.sort(a,axis=-2)"
   ]
  },
  {
   "cell_type": "code",
   "execution_count": 187,
   "id": "ac76534f",
   "metadata": {
    "hidden": true
   },
   "outputs": [
    {
     "data": {
      "text/plain": [
       "array([[  2,  10,  99],\n",
       "       [  4,  21, 100],\n",
       "       [  5,  12,  32],\n",
       "       [  9,  45,  57]])"
      ]
     },
     "execution_count": 187,
     "metadata": {},
     "output_type": "execute_result"
    }
   ],
   "source": [
    "np.sort(a,axis=1)"
   ]
  },
  {
   "cell_type": "code",
   "execution_count": 188,
   "id": "d702d388",
   "metadata": {
    "hidden": true
   },
   "outputs": [
    {
     "data": {
      "text/plain": [
       "array([[  2,  10,  99],\n",
       "       [  4,  21, 100],\n",
       "       [  5,  12,  32],\n",
       "       [  9,  45,  57]])"
      ]
     },
     "execution_count": 188,
     "metadata": {},
     "output_type": "execute_result"
    }
   ],
   "source": [
    "np.sort(a,axis=-1)"
   ]
  },
  {
   "cell_type": "code",
   "execution_count": 189,
   "id": "67dd9ba9",
   "metadata": {
    "hidden": true
   },
   "outputs": [
    {
     "data": {
      "text/plain": [
       "array([[  2,  10,  99],\n",
       "       [  4,  21, 100],\n",
       "       [  5,  12,  32],\n",
       "       [  9,  45,  57]])"
      ]
     },
     "execution_count": 189,
     "metadata": {},
     "output_type": "execute_result"
    }
   ],
   "source": [
    "np.sort(a) ##default value is -1."
   ]
  },
  {
   "cell_type": "markdown",
   "id": "2fff2108",
   "metadata": {
    "hidden": true
   },
   "source": [
    "**`Default Value of sorting- numpy.sort`**   \n",
    "  \n",
    "**numpy.sort (a, axis=-1, kind=None, order=None)  \n",
    "Return a sorted copy of an array.**  \n",
    "\n",
    "In most functions default value is -1. So check function to function.  \n",
    "In sort function default value is **-1**"
   ]
  },
  {
   "cell_type": "markdown",
   "id": "23607920",
   "metadata": {
    "heading_collapsed": true,
    "hidden": true
   },
   "source": [
    "##### `np.argsort( )` - Gives indexes of sorted elements"
   ]
  },
  {
   "cell_type": "code",
   "execution_count": 210,
   "id": "c91a29f1",
   "metadata": {
    "hidden": true,
    "scrolled": true
   },
   "outputs": [
    {
     "data": {
      "text/plain": [
       "array([5, 0, 2, 4, 6, 1, 7, 3])"
      ]
     },
     "execution_count": 210,
     "metadata": {},
     "output_type": "execute_result"
    }
   ],
   "source": [
    "np.argsort(a) #"
   ]
  },
  {
   "cell_type": "code",
   "execution_count": 212,
   "id": "f6e67b9e",
   "metadata": {
    "hidden": true
   },
   "outputs": [
    {
     "data": {
      "text/plain": [
       "3"
      ]
     },
     "execution_count": 212,
     "metadata": {},
     "output_type": "execute_result"
    }
   ],
   "source": [
    "np.argmax(a) #returns index of maximum value/argument"
   ]
  },
  {
   "cell_type": "code",
   "execution_count": 213,
   "id": "f27e416b",
   "metadata": {
    "hidden": true
   },
   "outputs": [
    {
     "data": {
      "text/plain": [
       "5"
      ]
     },
     "execution_count": 213,
     "metadata": {},
     "output_type": "execute_result"
    }
   ],
   "source": [
    "np.argmin(a) #returns index of minimum value/argument"
   ]
  },
  {
   "cell_type": "markdown",
   "id": "f1989c8c",
   "metadata": {
    "heading_collapsed": true,
    "hidden": true
   },
   "source": [
    "#### `np.unique( )`"
   ]
  },
  {
   "cell_type": "code",
   "execution_count": 222,
   "id": "ee8ab44f",
   "metadata": {
    "hidden": true
   },
   "outputs": [
    {
     "data": {
      "text/plain": [
       "array([ 7., 10.,  5., ...,  5.,  9., 10.])"
      ]
     },
     "execution_count": 222,
     "metadata": {},
     "output_type": "execute_result"
    }
   ],
   "source": [
    "data"
   ]
  },
  {
   "cell_type": "markdown",
   "id": "cb3074f3",
   "metadata": {
    "hidden": true
   },
   "source": [
    "**Finds unique value**"
   ]
  },
  {
   "cell_type": "code",
   "execution_count": 223,
   "id": "4b2754e3",
   "metadata": {
    "hidden": true
   },
   "outputs": [
    {
     "data": {
      "text/plain": [
       "array([ 1.,  4.,  5.,  7.,  8.,  9., 10.])"
      ]
     },
     "execution_count": 223,
     "metadata": {},
     "output_type": "execute_result"
    }
   ],
   "source": [
    "np.unique(data) "
   ]
  },
  {
   "cell_type": "markdown",
   "id": "07718ecc",
   "metadata": {
    "hidden": true
   },
   "source": [
    "**To find frequency of Unique values**"
   ]
  },
  {
   "cell_type": "code",
   "execution_count": 224,
   "id": "5046dd7a",
   "metadata": {
    "hidden": true
   },
   "outputs": [
    {
     "data": {
      "text/plain": [
       "(array([ 1.,  4.,  5.,  7.,  8.,  9., 10.]),\n",
       " array([117, 112, 103, 123, 103, 394, 215]))"
      ]
     },
     "execution_count": 224,
     "metadata": {},
     "output_type": "execute_result"
    }
   ],
   "source": [
    "np.unique(data,return_counts=True)"
   ]
  },
  {
   "cell_type": "markdown",
   "id": "37f9056a",
   "metadata": {
    "hidden": true
   },
   "source": [
    "**In the above output, first array is all the unique values and the second array has the frequency of the unique values.**  \n",
    "\n",
    "Ex: Those who gave 1 rating are 117 in number.   \n",
    "Those who gave 4. rating they are 112 in number."
   ]
  },
  {
   "cell_type": "markdown",
   "id": "70e574c5",
   "metadata": {
    "hidden": true
   },
   "source": [
    "#### `np.where( )`"
   ]
  },
  {
   "cell_type": "code",
   "execution_count": 225,
   "id": "85198490",
   "metadata": {
    "hidden": true
   },
   "outputs": [
    {
     "data": {
      "text/plain": [
       "array([ 2,  1,  6,  4,  7,  3,  8,  9, 11])"
      ]
     },
     "execution_count": 225,
     "metadata": {},
     "output_type": "execute_result"
    }
   ],
   "source": [
    "a = np.array([2,1,6,4,7,3,8,9,11])\n",
    "a"
   ]
  },
  {
   "cell_type": "code",
   "execution_count": 226,
   "id": "61969251",
   "metadata": {
    "hidden": true
   },
   "outputs": [
    {
     "data": {
      "text/plain": [
       "array([ True,  True, False,  True, False,  True, False, False, False])"
      ]
     },
     "execution_count": 226,
     "metadata": {},
     "output_type": "execute_result"
    }
   ],
   "source": [
    "a<6"
   ]
  },
  {
   "cell_type": "code",
   "execution_count": 227,
   "id": "a6795bef",
   "metadata": {
    "hidden": true
   },
   "outputs": [
    {
     "data": {
      "text/plain": [
       "array([2, 1, 4, 3])"
      ]
     },
     "execution_count": 227,
     "metadata": {},
     "output_type": "execute_result"
    }
   ],
   "source": [
    "a[a<6]"
   ]
  },
  {
   "cell_type": "code",
   "execution_count": 228,
   "id": "86368596",
   "metadata": {
    "hidden": true
   },
   "outputs": [
    {
     "data": {
      "text/plain": [
       "(array([0, 1, 3, 5]),)"
      ]
     },
     "execution_count": 228,
     "metadata": {},
     "output_type": "execute_result"
    }
   ],
   "source": [
    "np.where(a<6)"
   ]
  },
  {
   "cell_type": "markdown",
   "id": "a7147a7f",
   "metadata": {
    "hidden": true
   },
   "source": [
    "**We receive the indexes of the values lesser than 6.**  \n",
    "\n",
    "Why is there a comma? cz it is a tuple. To store a single element in Tuple we have to write a comma."
   ]
  },
  {
   "cell_type": "code",
   "execution_count": 229,
   "id": "168758d1",
   "metadata": {
    "hidden": true
   },
   "outputs": [
    {
     "data": {
      "text/plain": [
       "array([-1, -1,  1, -1,  1, -1,  1,  1,  1])"
      ]
     },
     "execution_count": 229,
     "metadata": {},
     "output_type": "execute_result"
    }
   ],
   "source": [
    "np.where(a<6,-1,+1)"
   ]
  },
  {
   "cell_type": "markdown",
   "id": "19dd8dc1",
   "metadata": {
    "hidden": true
   },
   "source": [
    "In above code- we replaced values which are <6 with -1 and values which are >6 with +1"
   ]
  },
  {
   "cell_type": "code",
   "execution_count": 230,
   "id": "6b683442",
   "metadata": {
    "hidden": true
   },
   "outputs": [
    {
     "data": {
      "text/plain": [
       "array([-1, -1,  6, -1,  7, -1,  8,  9, 11])"
      ]
     },
     "execution_count": 230,
     "metadata": {},
     "output_type": "execute_result"
    }
   ],
   "source": [
    "np.where(a<6,-1,a)"
   ]
  },
  {
   "cell_type": "markdown",
   "id": "181c369f",
   "metadata": {
    "hidden": true
   },
   "source": [
    "In above code- we replaced values which are <6 with -1 and values which are >6 are kept as it is."
   ]
  },
  {
   "cell_type": "markdown",
   "id": "53070cec",
   "metadata": {
    "heading_collapsed": true
   },
   "source": [
    "### Use case- Fitness data analysis"
   ]
  },
  {
   "cell_type": "code",
   "execution_count": 232,
   "id": "c53bec1a",
   "metadata": {
    "hidden": true
   },
   "outputs": [
    {
     "data": {
      "text/plain": [
       "array([['06-10-2017', '5464', 'Neutral', '181', '5', 'Inactive'],\n",
       "       ['07-10-2017', '6041', 'Sad', '197', '8', 'Inactive'],\n",
       "       ['08-10-2017', '25', 'Sad', '0', '5', 'Inactive'],\n",
       "       ['09-10-2017', '5461', 'Sad', '174', '4', 'Inactive'],\n",
       "       ['10-10-2017', '6915', 'Neutral', '223', '5', 'Active'],\n",
       "       ['11-10-2017', '4545', 'Sad', '149', '6', 'Inactive'],\n",
       "       ['12-10-2017', '4340', 'Sad', '140', '6', 'Inactive'],\n",
       "       ['13-10-2017', '1230', 'Sad', '38', '7', 'Inactive'],\n",
       "       ['14-10-2017', '61', 'Sad', '1', '5', 'Inactive'],\n",
       "       ['15-10-2017', '1258', 'Sad', '40', '6', 'Inactive'],\n",
       "       ['16-10-2017', '3148', 'Sad', '101', '8', 'Inactive'],\n",
       "       ['17-10-2017', '4687', 'Sad', '152', '5', 'Inactive'],\n",
       "       ['18-10-2017', '4732', 'Happy', '150', '6', 'Active'],\n",
       "       ['19-10-2017', '3519', 'Sad', '113', '7', 'Inactive'],\n",
       "       ['20-10-2017', '1580', 'Sad', '49', '5', 'Inactive'],\n",
       "       ['21-10-2017', '2822', 'Sad', '86', '6', 'Inactive'],\n",
       "       ['22-10-2017', '181', 'Sad', '6', '8', 'Inactive'],\n",
       "       ['23-10-2017', '3158', 'Neutral', '99', '5', 'Inactive'],\n",
       "       ['24-10-2017', '4383', 'Neutral', '143', '4', 'Inactive'],\n",
       "       ['25-10-2017', '3881', 'Neutral', '125', '5', 'Inactive'],\n",
       "       ['26-10-2017', '4037', 'Neutral', '129', '6', 'Inactive'],\n",
       "       ['27-10-2017', '202', 'Neutral', '6', '8', 'Inactive'],\n",
       "       ['28-10-2017', '292', 'Neutral', '9', '5', 'Inactive'],\n",
       "       ['29-10-2017', '330', 'Happy', '10', '6', 'Inactive'],\n",
       "       ['30-10-2017', '2209', 'Neutral', '72', '5', 'Inactive'],\n",
       "       ['31-10-2017', '4550', 'Happy', '150', '8', 'Active'],\n",
       "       ['01-11-2017', '4435', 'Happy', '141', '5', 'Inactive'],\n",
       "       ['02-11-2017', '4779', 'Happy', '156', '4', 'Inactive'],\n",
       "       ['03-11-2017', '1831', 'Happy', '57', '5', 'Inactive'],\n",
       "       ['04-11-2017', '2255', 'Happy', '72', '4', 'Inactive'],\n",
       "       ['05-11-2017', '539', 'Happy', '17', '5', 'Active'],\n",
       "       ['06-11-2017', '5464', 'Happy', '181', '4', 'Inactive'],\n",
       "       ['07-11-2017', '6041', 'Neutral', '197', '3', 'Inactive'],\n",
       "       ['08-11-2017', '4068', 'Happy', '131', '2', 'Inactive'],\n",
       "       ['09-11-2017', '4683', 'Happy', '154', '9', 'Inactive'],\n",
       "       ['10-11-2017', '4033', 'Happy', '137', '5', 'Inactive'],\n",
       "       ['11-11-2017', '6314', 'Happy', '193', '6', 'Active'],\n",
       "       ['12-11-2017', '614', 'Happy', '19', '4', 'Active'],\n",
       "       ['13-11-2017', '3149', 'Happy', '101', '5', 'Active'],\n",
       "       ['14-11-2017', '4005', 'Happy', '139', '8', 'Active'],\n",
       "       ['15-11-2017', '4880', 'Happy', '164', '4', 'Active'],\n",
       "       ['16-11-2017', '4136', 'Happy', '137', '5', 'Active'],\n",
       "       ['17-11-2017', '705', 'Happy', '22', '6', 'Active'],\n",
       "       ['18-11-2017', '570', 'Neutral', '17', '5', 'Active'],\n",
       "       ['19-11-2017', '269', 'Happy', '9', '6', 'Active'],\n",
       "       ['20-11-2017', '4275', 'Happy', '145', '5', 'Inactive'],\n",
       "       ['21-11-2017', '5999', 'Happy', '192', '6', 'Inactive'],\n",
       "       ['22-11-2017', '4421', 'Happy', '146', '5', 'Inactive'],\n",
       "       ['23-11-2017', '6930', 'Happy', '234', '6', 'Inactive'],\n",
       "       ['24-11-2017', '5195', 'Happy', '167', '5', 'Inactive'],\n",
       "       ['25-11-2017', '546', 'Happy', '16', '6', 'Inactive'],\n",
       "       ['26-11-2017', '493', 'Happy', '17', '7', 'Active'],\n",
       "       ['27-11-2017', '995', 'Happy', '32', '6', 'Active'],\n",
       "       ['28-11-2017', '1163', 'Neutral', '35', '7', 'Active'],\n",
       "       ['29-11-2017', '6676', 'Sad', '220', '6', 'Active'],\n",
       "       ['30-11-2017', '3608', 'Happy', '116', '5', 'Active'],\n",
       "       ['01-12-2017', '774', 'Happy', '23', '6', 'Active'],\n",
       "       ['02-12-2017', '1421', 'Happy', '44', '7', 'Active'],\n",
       "       ['03-12-2017', '4064', 'Happy', '131', '8', 'Active'],\n",
       "       ['04-12-2017', '2725', 'Happy', '86', '8', 'Active'],\n",
       "       ['05-12-2017', '5934', 'Happy', '194', '7', 'Active'],\n",
       "       ['06-12-2017', '1867', 'Happy', '60', '8', 'Active'],\n",
       "       ['07-12-2017', '3721', 'Sad', '121', '5', 'Active'],\n",
       "       ['08-12-2017', '2374', 'Neutral', '76', '4', 'Inactive'],\n",
       "       ['09-12-2017', '2909', 'Neutral', '93', '3', 'Active'],\n",
       "       ['10-12-2017', '1648', 'Sad', '53', '3', 'Active'],\n",
       "       ['11-12-2017', '799', 'Sad', '25', '4', 'Inactive'],\n",
       "       ['12-12-2017', '7102', 'Neutral', '227', '5', 'Active'],\n",
       "       ['13-12-2017', '3941', 'Neutral', '125', '5', 'Active'],\n",
       "       ['14-12-2017', '7422', 'Happy', '243', '5', 'Active'],\n",
       "       ['15-12-2017', '437', 'Neutral', '14', '3', 'Active'],\n",
       "       ['16-12-2017', '1231', 'Neutral', '39', '4', 'Active'],\n",
       "       ['17-12-2017', '1696', 'Sad', '55', '4', 'Inactive'],\n",
       "       ['18-12-2017', '4921', 'Neutral', '158', '5', 'Active'],\n",
       "       ['19-12-2017', '221', 'Sad', '7', '5', 'Active'],\n",
       "       ['20-12-2017', '6500', 'Neutral', '213', '5', 'Active'],\n",
       "       ['21-12-2017', '3575', 'Neutral', '116', '5', 'Active'],\n",
       "       ['22-12-2017', '4061', 'Sad', '129', '5', 'Inactive'],\n",
       "       ['23-12-2017', '651', 'Sad', '21', '5', 'Inactive'],\n",
       "       ['24-12-2017', '753', 'Sad', '28', '4', 'Inactive'],\n",
       "       ['25-12-2017', '518', 'Sad', '16', '3', 'Inactive'],\n",
       "       ['26-12-2017', '5537', 'Happy', '180', '4', 'Active'],\n",
       "       ['27-12-2017', '4108', 'Neutral', '138', '5', 'Active'],\n",
       "       ['28-12-2017', '5376', 'Happy', '176', '5', 'Active'],\n",
       "       ['29-12-2017', '3066', 'Neutral', '99', '4', 'Active'],\n",
       "       ['30-12-2017', '177', 'Sad', '5', '5', 'Inactive'],\n",
       "       ['31-12-2017', '36', 'Sad', '1', '3', 'Inactive'],\n",
       "       ['01-01-2018', '299', 'Sad', '10', '3', 'Inactive'],\n",
       "       ['02-01-2018', '1447', 'Neutral', '47', '3', 'Inactive'],\n",
       "       ['03-01-2018', '2599', 'Neutral', '84', '2', 'Inactive'],\n",
       "       ['04-01-2018', '702', 'Sad', '23', '3', 'Inactive'],\n",
       "       ['05-01-2018', '133', 'Sad', '4', '2', 'Inactive'],\n",
       "       ['06-01-2018', '153', 'Happy', '0', '8', 'Inactive'],\n",
       "       ['07-01-2018', '500', 'Neutral', '0', '5', 'Active'],\n",
       "       ['08-01-2018', '2127', 'Neutral', '0', '5', 'Inactive'],\n",
       "       ['09-01-2018', '2203', 'Happy', '0', '5', 'Active']], dtype='<U10')"
      ]
     },
     "execution_count": 232,
     "metadata": {},
     "output_type": "execute_result"
    }
   ],
   "source": [
    "data = np.loadtxt(\"/Users/aparnabiswas/Downloads/Python_libraries-Jupyter/Numpy/04_Numpy_4/fit.txt\",dtype = \"str\")\n",
    "data"
   ]
  },
  {
   "cell_type": "markdown",
   "id": "a8e019da",
   "metadata": {
    "hidden": true
   },
   "source": [
    "**Numpys don't deal with date format, hence we will use Pandas for it later.  \n",
    "and for now we have converted everything into string.**"
   ]
  },
  {
   "cell_type": "code",
   "execution_count": 233,
   "id": "144ec5e1",
   "metadata": {
    "hidden": true
   },
   "outputs": [
    {
     "ename": "NameError",
     "evalue": "name 'step_counts' is not defined",
     "output_type": "error",
     "traceback": [
      "\u001b[0;31m---------------------------------------------------------------------------\u001b[0m",
      "\u001b[0;31mNameError\u001b[0m                                 Traceback (most recent call last)",
      "Cell \u001b[0;32mIn[233], line 1\u001b[0m\n\u001b[0;32m----> 1\u001b[0m step_counts\n",
      "\u001b[0;31mNameError\u001b[0m: name 'step_counts' is not defined"
     ]
    }
   ],
   "source": [
    "step_counts"
   ]
  },
  {
   "cell_type": "code",
   "execution_count": 234,
   "id": "b5d147be",
   "metadata": {
    "hidden": true
   },
   "outputs": [],
   "source": [
    "date = data[::,0]\n",
    "step_counts = data[::,1]\n",
    "mood= data[::,2]\n",
    "calories_burnt= data[::,3]\n",
    "hours_of_sleep = data[::,4]\n",
    "activity = data[::,5]"
   ]
  },
  {
   "cell_type": "code",
   "execution_count": 235,
   "id": "69f88ae3",
   "metadata": {
    "hidden": true
   },
   "outputs": [
    {
     "data": {
      "text/plain": [
       "array(['06-10-2017', '07-10-2017', '08-10-2017', '09-10-2017',\n",
       "       '10-10-2017', '11-10-2017', '12-10-2017', '13-10-2017',\n",
       "       '14-10-2017', '15-10-2017', '16-10-2017', '17-10-2017',\n",
       "       '18-10-2017', '19-10-2017', '20-10-2017', '21-10-2017',\n",
       "       '22-10-2017', '23-10-2017', '24-10-2017', '25-10-2017',\n",
       "       '26-10-2017', '27-10-2017', '28-10-2017', '29-10-2017',\n",
       "       '30-10-2017', '31-10-2017', '01-11-2017', '02-11-2017',\n",
       "       '03-11-2017', '04-11-2017', '05-11-2017', '06-11-2017',\n",
       "       '07-11-2017', '08-11-2017', '09-11-2017', '10-11-2017',\n",
       "       '11-11-2017', '12-11-2017', '13-11-2017', '14-11-2017',\n",
       "       '15-11-2017', '16-11-2017', '17-11-2017', '18-11-2017',\n",
       "       '19-11-2017', '20-11-2017', '21-11-2017', '22-11-2017',\n",
       "       '23-11-2017', '24-11-2017', '25-11-2017', '26-11-2017',\n",
       "       '27-11-2017', '28-11-2017', '29-11-2017', '30-11-2017',\n",
       "       '01-12-2017', '02-12-2017', '03-12-2017', '04-12-2017',\n",
       "       '05-12-2017', '06-12-2017', '07-12-2017', '08-12-2017',\n",
       "       '09-12-2017', '10-12-2017', '11-12-2017', '12-12-2017',\n",
       "       '13-12-2017', '14-12-2017', '15-12-2017', '16-12-2017',\n",
       "       '17-12-2017', '18-12-2017', '19-12-2017', '20-12-2017',\n",
       "       '21-12-2017', '22-12-2017', '23-12-2017', '24-12-2017',\n",
       "       '25-12-2017', '26-12-2017', '27-12-2017', '28-12-2017',\n",
       "       '29-12-2017', '30-12-2017', '31-12-2017', '01-01-2018',\n",
       "       '02-01-2018', '03-01-2018', '04-01-2018', '05-01-2018',\n",
       "       '06-01-2018', '07-01-2018', '08-01-2018', '09-01-2018'],\n",
       "      dtype='<U10')"
      ]
     },
     "execution_count": 235,
     "metadata": {},
     "output_type": "execute_result"
    }
   ],
   "source": [
    "date"
   ]
  },
  {
   "cell_type": "code",
   "execution_count": 236,
   "id": "fc4b3a55",
   "metadata": {
    "hidden": true
   },
   "outputs": [
    {
     "data": {
      "text/plain": [
       "array(['5464', '6041', '25', '5461', '6915', '4545', '4340', '1230', '61',\n",
       "       '1258', '3148', '4687', '4732', '3519', '1580', '2822', '181',\n",
       "       '3158', '4383', '3881', '4037', '202', '292', '330', '2209',\n",
       "       '4550', '4435', '4779', '1831', '2255', '539', '5464', '6041',\n",
       "       '4068', '4683', '4033', '6314', '614', '3149', '4005', '4880',\n",
       "       '4136', '705', '570', '269', '4275', '5999', '4421', '6930',\n",
       "       '5195', '546', '493', '995', '1163', '6676', '3608', '774', '1421',\n",
       "       '4064', '2725', '5934', '1867', '3721', '2374', '2909', '1648',\n",
       "       '799', '7102', '3941', '7422', '437', '1231', '1696', '4921',\n",
       "       '221', '6500', '3575', '4061', '651', '753', '518', '5537', '4108',\n",
       "       '5376', '3066', '177', '36', '299', '1447', '2599', '702', '133',\n",
       "       '153', '500', '2127', '2203'], dtype='<U10')"
      ]
     },
     "execution_count": 236,
     "metadata": {},
     "output_type": "execute_result"
    }
   ],
   "source": [
    "step_counts"
   ]
  },
  {
   "cell_type": "markdown",
   "id": "053bdccb",
   "metadata": {
    "hidden": true
   },
   "source": [
    "**Converting string back to integer**"
   ]
  },
  {
   "cell_type": "code",
   "execution_count": 239,
   "id": "0bec2df3",
   "metadata": {
    "hidden": true
   },
   "outputs": [
    {
     "data": {
      "text/plain": [
       "array([5464, 6041,   25, 5461, 6915, 4545, 4340, 1230,   61, 1258, 3148,\n",
       "       4687, 4732, 3519, 1580, 2822,  181, 3158, 4383, 3881, 4037,  202,\n",
       "        292,  330, 2209, 4550, 4435, 4779, 1831, 2255,  539, 5464, 6041,\n",
       "       4068, 4683, 4033, 6314,  614, 3149, 4005, 4880, 4136,  705,  570,\n",
       "        269, 4275, 5999, 4421, 6930, 5195,  546,  493,  995, 1163, 6676,\n",
       "       3608,  774, 1421, 4064, 2725, 5934, 1867, 3721, 2374, 2909, 1648,\n",
       "        799, 7102, 3941, 7422,  437, 1231, 1696, 4921,  221, 6500, 3575,\n",
       "       4061,  651,  753,  518, 5537, 4108, 5376, 3066,  177,   36,  299,\n",
       "       1447, 2599,  702,  133,  153,  500, 2127, 2203])"
      ]
     },
     "execution_count": 239,
     "metadata": {},
     "output_type": "execute_result"
    }
   ],
   "source": [
    "step_counts = np.array(step_counts,dtype='int')\n",
    "step_counts"
   ]
  },
  {
   "cell_type": "code",
   "execution_count": 240,
   "id": "382192df",
   "metadata": {
    "hidden": true
   },
   "outputs": [
    {
     "data": {
      "text/plain": [
       "array([181, 197,   0, 174, 223, 149, 140,  38,   1,  40, 101, 152, 150,\n",
       "       113,  49,  86,   6,  99, 143, 125, 129,   6,   9,  10,  72, 150,\n",
       "       141, 156,  57,  72,  17, 181, 197, 131, 154, 137, 193,  19, 101,\n",
       "       139, 164, 137,  22,  17,   9, 145, 192, 146, 234, 167,  16,  17,\n",
       "        32,  35, 220, 116,  23,  44, 131,  86, 194,  60, 121,  76,  93,\n",
       "        53,  25, 227, 125, 243,  14,  39,  55, 158,   7, 213, 116, 129,\n",
       "        21,  28,  16, 180, 138, 176,  99,   5,   1,  10,  47,  84,  23,\n",
       "         4,   0,   0,   0,   0])"
      ]
     },
     "execution_count": 240,
     "metadata": {},
     "output_type": "execute_result"
    }
   ],
   "source": [
    "calories_burnt  = np.array(calories_burnt,dtype='int')\n",
    "calories_burnt"
   ]
  },
  {
   "cell_type": "code",
   "execution_count": 241,
   "id": "dd6cea90",
   "metadata": {
    "hidden": true
   },
   "outputs": [
    {
     "data": {
      "text/plain": [
       "array([5, 8, 5, 4, 5, 6, 6, 7, 5, 6, 8, 5, 6, 7, 5, 6, 8, 5, 4, 5, 6, 8,\n",
       "       5, 6, 5, 8, 5, 4, 5, 4, 5, 4, 3, 2, 9, 5, 6, 4, 5, 8, 4, 5, 6, 5,\n",
       "       6, 5, 6, 5, 6, 5, 6, 7, 6, 7, 6, 5, 6, 7, 8, 8, 7, 8, 5, 4, 3, 3,\n",
       "       4, 5, 5, 5, 3, 4, 4, 5, 5, 5, 5, 5, 5, 4, 3, 4, 5, 5, 4, 5, 3, 3,\n",
       "       3, 2, 3, 2, 8, 5, 5, 5])"
      ]
     },
     "execution_count": 241,
     "metadata": {},
     "output_type": "execute_result"
    }
   ],
   "source": [
    "hours_of_sleep = np.array(hours_of_sleep,dtype='int')\n",
    "hours_of_sleep"
   ]
  },
  {
   "cell_type": "code",
   "execution_count": 242,
   "id": "b5bf9989",
   "metadata": {
    "hidden": true
   },
   "outputs": [
    {
     "data": {
      "text/plain": [
       "2935.9375"
      ]
     },
     "execution_count": 242,
     "metadata": {},
     "output_type": "execute_result"
    }
   ],
   "source": [
    "#How many steps on an average the user is taking??\n",
    "\n",
    "np.mean(step_counts)"
   ]
  },
  {
   "cell_type": "code",
   "execution_count": 244,
   "id": "f3b08474",
   "metadata": {
    "hidden": true
   },
   "outputs": [
    {
     "data": {
      "text/plain": [
       "(array(['Happy', 'Neutral', 'Sad'], dtype='<U10'), array([40, 27, 29]))"
      ]
     },
     "execution_count": 244,
     "metadata": {},
     "output_type": "execute_result"
    }
   ],
   "source": [
    "#on how many days the user is sad?\n",
    "\n",
    "np.unique(mood,return_counts=True)"
   ]
  },
  {
   "cell_type": "code",
   "execution_count": 245,
   "id": "47ef9e30",
   "metadata": {
    "hidden": true
   },
   "outputs": [
    {
     "data": {
      "text/plain": [
       "(array(['Active', 'Inactive'], dtype='<U10'), array([42, 54]))"
      ]
     },
     "execution_count": 245,
     "metadata": {},
     "output_type": "execute_result"
    }
   ],
   "source": [
    "#on how many days the user is inactive/lazy?\n",
    "\n",
    "np.unique(activity,return_counts=True)"
   ]
  },
  {
   "cell_type": "code",
   "execution_count": 246,
   "id": "8de4932e",
   "metadata": {
    "hidden": true
   },
   "outputs": [
    {
     "data": {
      "text/plain": [
       "7422"
      ]
     },
     "execution_count": 246,
     "metadata": {},
     "output_type": "execute_result"
    }
   ],
   "source": [
    "np.max(step_counts)"
   ]
  },
  {
   "cell_type": "code",
   "execution_count": 247,
   "id": "9a459f6c",
   "metadata": {
    "hidden": true
   },
   "outputs": [
    {
     "data": {
      "text/plain": [
       "69"
      ]
     },
     "execution_count": 247,
     "metadata": {},
     "output_type": "execute_result"
    }
   ],
   "source": [
    "np.argmax(step_counts)"
   ]
  },
  {
   "cell_type": "markdown",
   "id": "7bdb89c2",
   "metadata": {
    "hidden": true
   },
   "source": [
    "**To find the date on which he walked maximum number of steps**"
   ]
  },
  {
   "cell_type": "code",
   "execution_count": 248,
   "id": "d08623da",
   "metadata": {
    "hidden": true
   },
   "outputs": [
    {
     "data": {
      "text/plain": [
       "'14-12-2017'"
      ]
     },
     "execution_count": 248,
     "metadata": {},
     "output_type": "execute_result"
    }
   ],
   "source": [
    "date[69]  "
   ]
  },
  {
   "cell_type": "code",
   "execution_count": 249,
   "id": "d813d30a",
   "metadata": {
    "hidden": true
   },
   "outputs": [
    {
     "data": {
      "text/plain": [
       "'14-12-2017'"
      ]
     },
     "execution_count": 249,
     "metadata": {},
     "output_type": "execute_result"
    }
   ],
   "source": [
    "date[np.argmax(step_counts)]"
   ]
  },
  {
   "cell_type": "code",
   "execution_count": 251,
   "id": "58018582",
   "metadata": {
    "hidden": true
   },
   "outputs": [
    {
     "data": {
      "text/plain": [
       "array([False,  True,  True,  True, False,  True,  True,  True,  True,\n",
       "        True,  True,  True, False,  True,  True,  True,  True, False,\n",
       "       False, False, False, False, False, False, False, False, False,\n",
       "       False, False, False, False, False, False, False, False, False,\n",
       "       False, False, False, False, False, False, False, False, False,\n",
       "       False, False, False, False, False, False, False, False, False,\n",
       "        True, False, False, False, False, False, False, False,  True,\n",
       "       False, False,  True,  True, False, False, False, False, False,\n",
       "        True, False,  True, False, False,  True,  True,  True,  True,\n",
       "       False, False, False, False,  True,  True,  True, False, False,\n",
       "        True,  True, False, False, False, False])"
      ]
     },
     "execution_count": 251,
     "metadata": {},
     "output_type": "execute_result"
    }
   ],
   "source": [
    "mood==\"Sad\""
   ]
  },
  {
   "cell_type": "code",
   "execution_count": 253,
   "id": "c89d8823",
   "metadata": {
    "hidden": true
   },
   "outputs": [
    {
     "data": {
      "text/plain": [
       "array([6041,   25, 5461, 4545, 4340, 1230,   61, 1258, 3148, 4687, 3519,\n",
       "       1580, 2822,  181, 6676, 3721, 1648,  799, 1696,  221, 4061,  651,\n",
       "        753,  518,  177,   36,  299,  702,  133])"
      ]
     },
     "execution_count": 253,
     "metadata": {},
     "output_type": "execute_result"
    }
   ],
   "source": [
    "step_counts[mood==\"Sad\"]"
   ]
  },
  {
   "cell_type": "code",
   "execution_count": 254,
   "id": "32a19c8f",
   "metadata": {
    "hidden": true
   },
   "outputs": [
    {
     "data": {
      "text/plain": [
       "2103.0689655172414"
      ]
     },
     "execution_count": 254,
     "metadata": {},
     "output_type": "execute_result"
    }
   ],
   "source": [
    "np.mean(step_counts[mood==\"Sad\"])"
   ]
  },
  {
   "cell_type": "code",
   "execution_count": 255,
   "id": "f735fac9",
   "metadata": {
    "hidden": true
   },
   "outputs": [
    {
     "data": {
      "text/plain": [
       "3153.777777777778"
      ]
     },
     "execution_count": 255,
     "metadata": {},
     "output_type": "execute_result"
    }
   ],
   "source": [
    "np.mean(step_counts[mood==\"Neutral\"])"
   ]
  },
  {
   "cell_type": "code",
   "execution_count": 256,
   "id": "e47cd05b",
   "metadata": {
    "hidden": true
   },
   "outputs": [
    {
     "data": {
      "text/plain": [
       "3392.725"
      ]
     },
     "execution_count": 256,
     "metadata": {},
     "output_type": "execute_result"
    }
   ],
   "source": [
    "np.mean(step_counts[mood==\"Happy\"])"
   ]
  },
  {
   "cell_type": "code",
   "execution_count": 257,
   "id": "d3dfae73",
   "metadata": {
    "hidden": true
   },
   "outputs": [
    {
     "data": {
      "text/plain": [
       "array(['Neutral', 'Sad', 'Sad', 'Neutral', 'Sad', 'Sad', 'Sad', 'Happy',\n",
       "       'Neutral', 'Neutral', 'Happy', 'Happy', 'Happy', 'Happy',\n",
       "       'Neutral', 'Happy', 'Happy', 'Happy', 'Happy', 'Happy', 'Happy',\n",
       "       'Happy', 'Happy', 'Happy', 'Happy', 'Happy', 'Happy', 'Sad',\n",
       "       'Happy', 'Happy', 'Neutral', 'Happy', 'Neutral', 'Neutral', 'Sad',\n",
       "       'Happy', 'Neutral', 'Happy'], dtype='<U10')"
      ]
     },
     "execution_count": 257,
     "metadata": {},
     "output_type": "execute_result"
    }
   ],
   "source": [
    "mood[step_counts>4000]"
   ]
  },
  {
   "cell_type": "code",
   "execution_count": 258,
   "id": "eefeb340",
   "metadata": {
    "hidden": true
   },
   "outputs": [
    {
     "data": {
      "text/plain": [
       "(array(['Happy', 'Neutral', 'Sad'], dtype='<U10'), array([22,  9,  7]))"
      ]
     },
     "execution_count": 258,
     "metadata": {},
     "output_type": "execute_result"
    }
   ],
   "source": [
    "np.unique(mood[step_counts>4000],return_counts=True)"
   ]
  },
  {
   "cell_type": "code",
   "execution_count": 260,
   "id": "67bb5c58",
   "metadata": {
    "hidden": true
   },
   "outputs": [
    {
     "data": {
      "text/plain": [
       "(array(['Happy', 'Neutral', 'Sad'], dtype='<U10'), array([13,  8, 18]))"
      ]
     },
     "execution_count": 260,
     "metadata": {},
     "output_type": "execute_result"
    }
   ],
   "source": [
    "np.unique(mood[step_counts<2000],return_counts=True)"
   ]
  },
  {
   "cell_type": "code",
   "execution_count": 261,
   "id": "630b3e40",
   "metadata": {
    "hidden": true
   },
   "outputs": [
    {
     "data": {
      "text/plain": [
       "(array(['Happy', 'Neutral', 'Sad'], dtype='<U10'), array([1, 5, 6]))"
      ]
     },
     "execution_count": 261,
     "metadata": {},
     "output_type": "execute_result"
    }
   ],
   "source": [
    "np.unique(mood[hours_of_sleep<4],return_counts=True)"
   ]
  },
  {
   "cell_type": "code",
   "execution_count": 263,
   "id": "c21c5c59",
   "metadata": {
    "hidden": true
   },
   "outputs": [
    {
     "data": {
      "text/plain": [
       "(array(['Happy', 'Neutral', 'Sad'], dtype='<U10'), array([20,  3, 10]))"
      ]
     },
     "execution_count": 263,
     "metadata": {},
     "output_type": "execute_result"
    }
   ],
   "source": [
    "np.unique(mood[hours_of_sleep>5],return_counts=True)"
   ]
  },
  {
   "cell_type": "markdown",
   "id": "d97b96e4",
   "metadata": {
    "hidden": true
   },
   "source": [
    "**Recommendation to User**\n",
    "- Sleep more\n",
    "- Walk more"
   ]
  },
  {
   "cell_type": "code",
   "execution_count": 264,
   "id": "8f9e7bc2",
   "metadata": {
    "hidden": true
   },
   "outputs": [
    {
     "data": {
      "text/plain": [
       "(array(['Happy', 'Neutral', 'Sad'], dtype='<U10'), array([24, 14,  4]))"
      ]
     },
     "execution_count": 264,
     "metadata": {},
     "output_type": "execute_result"
    }
   ],
   "source": [
    "np.unique(mood[activity==\"Active\"],return_counts=True)"
   ]
  },
  {
   "cell_type": "code",
   "execution_count": 265,
   "id": "ef6937a7",
   "metadata": {
    "hidden": true
   },
   "outputs": [
    {
     "data": {
      "text/plain": [
       "(array(['Happy', 'Neutral', 'Sad'], dtype='<U10'), array([16, 13, 25]))"
      ]
     },
     "execution_count": 265,
     "metadata": {},
     "output_type": "execute_result"
    }
   ],
   "source": [
    "np.unique(mood[activity==\"Inactive\"],return_counts=True)"
   ]
  },
  {
   "cell_type": "code",
   "execution_count": 266,
   "id": "42c9220b",
   "metadata": {
    "hidden": true
   },
   "outputs": [
    {
     "data": {
      "text/plain": [
       "5.725"
      ]
     },
     "execution_count": 266,
     "metadata": {},
     "output_type": "execute_result"
    }
   ],
   "source": [
    "np.mean(hours_of_sleep[mood==\"Happy\"])"
   ]
  },
  {
   "cell_type": "code",
   "execution_count": 267,
   "id": "a570a8b7",
   "metadata": {
    "hidden": true
   },
   "outputs": [
    {
     "data": {
      "text/plain": [
       "5.0344827586206895"
      ]
     },
     "execution_count": 267,
     "metadata": {},
     "output_type": "execute_result"
    }
   ],
   "source": [
    "np.mean(hours_of_sleep[mood==\"Sad\"])"
   ]
  },
  {
   "cell_type": "markdown",
   "id": "5eafafab",
   "metadata": {},
   "source": [
    "### Vectorization"
   ]
  },
  {
   "cell_type": "code",
   "execution_count": 269,
   "id": "2e58497c",
   "metadata": {},
   "outputs": [
    {
     "data": {
      "text/plain": [
       "array([ 1,  2,  3,  4,  5,  6,  7,  8,  9, 10])"
      ]
     },
     "execution_count": 269,
     "metadata": {},
     "output_type": "execute_result"
    }
   ],
   "source": [
    "a= np.arange(1,11)\n",
    "a"
   ]
  },
  {
   "cell_type": "markdown",
   "id": "3cd1faab",
   "metadata": {},
   "source": [
    "**What happens inside the array when we type a+10**  \n",
    "Operation of +10 is happening inside individually on all the numbers.  \n",
    "`2 things are happening-`  \n",
    "`- Vectorisation`  \n",
    "`- Broadcasting`\n",
    "\n",
    "Read more in notes."
   ]
  },
  {
   "cell_type": "code",
   "execution_count": 270,
   "id": "b4c86ae7",
   "metadata": {},
   "outputs": [
    {
     "data": {
      "text/plain": [
       "<function math.log>"
      ]
     },
     "execution_count": 270,
     "metadata": {},
     "output_type": "execute_result"
    }
   ],
   "source": [
    "import math\n",
    "math.log"
   ]
  },
  {
   "cell_type": "code",
   "execution_count": 271,
   "id": "4db61e9d",
   "metadata": {},
   "outputs": [
    {
     "data": {
      "text/plain": [
       "[0.0,\n",
       " 0.6931471805599453,\n",
       " 1.0986122886681098,\n",
       " 1.3862943611198906,\n",
       " 1.6094379124341003,\n",
       " 1.791759469228055,\n",
       " 1.9459101490553132,\n",
       " 2.0794415416798357,\n",
       " 2.1972245773362196,\n",
       " 2.302585092994046]"
      ]
     },
     "execution_count": 271,
     "metadata": {},
     "output_type": "execute_result"
    }
   ],
   "source": [
    "#to find log of all the values in a list- we use for loop.\n",
    "\n",
    "l=[1,2,3,4,5,6,7,8,9,10]\n",
    "l_e=[ ]\n",
    "for i in l:\n",
    "    l_e.append(math.log(i))\n",
    "l_e"
   ]
  },
  {
   "cell_type": "code",
   "execution_count": 272,
   "id": "35135493",
   "metadata": {},
   "outputs": [
    {
     "data": {
      "text/plain": [
       "array([0.        , 0.69314718, 1.09861229, 1.38629436, 1.60943791,\n",
       "       1.79175947, 1.94591015, 2.07944154, 2.19722458, 2.30258509])"
      ]
     },
     "execution_count": 272,
     "metadata": {},
     "output_type": "execute_result"
    }
   ],
   "source": [
    "#there are direct functions which gives exact result as above\n",
    "\n",
    "np.log(a)"
   ]
  },
  {
   "cell_type": "code",
   "execution_count": null,
   "id": "5aaa393e",
   "metadata": {},
   "outputs": [],
   "source": []
  },
  {
   "cell_type": "code",
   "execution_count": null,
   "id": "a65da512",
   "metadata": {},
   "outputs": [],
   "source": []
  },
  {
   "cell_type": "code",
   "execution_count": null,
   "id": "22a6312c",
   "metadata": {},
   "outputs": [],
   "source": []
  },
  {
   "cell_type": "code",
   "execution_count": null,
   "id": "9e8eafc9",
   "metadata": {},
   "outputs": [],
   "source": []
  },
  {
   "cell_type": "code",
   "execution_count": null,
   "id": "038c54ee",
   "metadata": {},
   "outputs": [],
   "source": []
  },
  {
   "cell_type": "code",
   "execution_count": null,
   "id": "fecdf0a2",
   "metadata": {},
   "outputs": [],
   "source": []
  },
  {
   "cell_type": "code",
   "execution_count": null,
   "id": "43995fdc",
   "metadata": {},
   "outputs": [],
   "source": []
  },
  {
   "cell_type": "code",
   "execution_count": null,
   "id": "6dbfe5f9",
   "metadata": {},
   "outputs": [],
   "source": []
  },
  {
   "cell_type": "code",
   "execution_count": null,
   "id": "9b638eba",
   "metadata": {},
   "outputs": [],
   "source": []
  }
 ],
 "metadata": {
  "kernelspec": {
   "display_name": "Python 3 (ipykernel)",
   "language": "python",
   "name": "python3"
  },
  "language_info": {
   "codemirror_mode": {
    "name": "ipython",
    "version": 3
   },
   "file_extension": ".py",
   "mimetype": "text/x-python",
   "name": "python",
   "nbconvert_exporter": "python",
   "pygments_lexer": "ipython3",
   "version": "3.11.3"
  }
 },
 "nbformat": 4,
 "nbformat_minor": 5
}
